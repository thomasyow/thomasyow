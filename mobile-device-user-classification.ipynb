{
 "cells": [
  {
   "cell_type": "code",
   "execution_count": 1,
   "id": "7bf09e7a",
   "metadata": {
    "_cell_guid": "b1076dfc-b9ad-4769-8c92-a6c4dae69d19",
    "_uuid": "8f2839f25d086af736a60e9eeb907d3b93b6e0e5",
    "execution": {
     "iopub.execute_input": "2024-11-29T08:01:55.606302Z",
     "iopub.status.busy": "2024-11-29T08:01:55.605881Z",
     "iopub.status.idle": "2024-11-29T08:01:56.386167Z",
     "shell.execute_reply": "2024-11-29T08:01:56.385115Z"
    },
    "papermill": {
     "duration": 0.790308,
     "end_time": "2024-11-29T08:01:56.388428",
     "exception": false,
     "start_time": "2024-11-29T08:01:55.598120",
     "status": "completed"
    },
    "tags": []
   },
   "outputs": [
    {
     "name": "stdout",
     "output_type": "stream",
     "text": [
      "/kaggle/input/mobile-device-usage-and-user-behavior-dataset/user_behavior_dataset.csv\n"
     ]
    }
   ],
   "source": [
    "# This Python 3 environment comes with many helpful analytics libraries installed\n",
    "# It is defined by the kaggle/python Docker image: https://github.com/kaggle/docker-python\n",
    "# For example, here's several helpful packages to load\n",
    "\n",
    "import numpy as np # linear algebra\n",
    "import pandas as pd # data processing, CSV file I/O (e.g. pd.read_csv)\n",
    "\n",
    "# Input data files are available in the read-only \"../input/\" directory\n",
    "# For example, running this (by clicking run or pressing Shift+Enter) will list all files under the input directory\n",
    "\n",
    "import os\n",
    "for dirname, _, filenames in os.walk('/kaggle/input'):\n",
    "    for filename in filenames:\n",
    "        print(os.path.join(dirname, filename))\n",
    "\n",
    "# You can write up to 20GB to the current directory (/kaggle/working/) that gets preserved as output when you create a version using \"Save & Run All\" \n",
    "# You can also write temporary files to /kaggle/temp/, but they won't be saved outside of the current session"
   ]
  },
  {
   "cell_type": "markdown",
   "id": "adbdcbf4",
   "metadata": {
    "papermill": {
     "duration": 0.005096,
     "end_time": "2024-11-29T08:01:56.399159",
     "exception": false,
     "start_time": "2024-11-29T08:01:56.394063",
     "status": "completed"
    },
    "tags": []
   },
   "source": [
    "# 0. Load Data and Split between Train (X) and Target (y)"
   ]
  },
  {
   "cell_type": "code",
   "execution_count": 2,
   "id": "9316ffd6",
   "metadata": {
    "execution": {
     "iopub.execute_input": "2024-11-29T08:01:56.412204Z",
     "iopub.status.busy": "2024-11-29T08:01:56.411192Z",
     "iopub.status.idle": "2024-11-29T08:01:56.434857Z",
     "shell.execute_reply": "2024-11-29T08:01:56.433458Z"
    },
    "papermill": {
     "duration": 0.032889,
     "end_time": "2024-11-29T08:01:56.437227",
     "exception": false,
     "start_time": "2024-11-29T08:01:56.404338",
     "status": "completed"
    },
    "tags": []
   },
   "outputs": [],
   "source": [
    "user_data = pd.read_csv('/kaggle/input/mobile-device-usage-and-user-behavior-dataset/user_behavior_dataset.csv')\n",
    "user_data.set_index(keys = 'User ID', inplace = True)\n",
    "#train_data = train_data.drop('User ID', axis = 1)"
   ]
  },
  {
   "cell_type": "code",
   "execution_count": 3,
   "id": "483c04d7",
   "metadata": {
    "execution": {
     "iopub.execute_input": "2024-11-29T08:01:56.450374Z",
     "iopub.status.busy": "2024-11-29T08:01:56.449943Z",
     "iopub.status.idle": "2024-11-29T08:01:56.472011Z",
     "shell.execute_reply": "2024-11-29T08:01:56.470899Z"
    },
    "papermill": {
     "duration": 0.031427,
     "end_time": "2024-11-29T08:01:56.474207",
     "exception": false,
     "start_time": "2024-11-29T08:01:56.442780",
     "status": "completed"
    },
    "tags": []
   },
   "outputs": [
    {
     "name": "stdout",
     "output_type": "stream",
     "text": [
      "<class 'pandas.core.frame.DataFrame'>\n",
      "Index: 700 entries, 1 to 700\n",
      "Data columns (total 10 columns):\n",
      " #   Column                      Non-Null Count  Dtype  \n",
      "---  ------                      --------------  -----  \n",
      " 0   Device Model                700 non-null    object \n",
      " 1   Operating System            700 non-null    object \n",
      " 2   App Usage Time (min/day)    700 non-null    int64  \n",
      " 3   Screen On Time (hours/day)  700 non-null    float64\n",
      " 4   Battery Drain (mAh/day)     700 non-null    int64  \n",
      " 5   Number of Apps Installed    700 non-null    int64  \n",
      " 6   Data Usage (MB/day)         700 non-null    int64  \n",
      " 7   Age                         700 non-null    int64  \n",
      " 8   Gender                      700 non-null    object \n",
      " 9   User Behavior Class         700 non-null    int64  \n",
      "dtypes: float64(1), int64(6), object(3)\n",
      "memory usage: 60.2+ KB\n"
     ]
    }
   ],
   "source": [
    "user_data.info()"
   ]
  },
  {
   "cell_type": "code",
   "execution_count": 4,
   "id": "5837f8bd",
   "metadata": {
    "execution": {
     "iopub.execute_input": "2024-11-29T08:01:56.488589Z",
     "iopub.status.busy": "2024-11-29T08:01:56.487134Z",
     "iopub.status.idle": "2024-11-29T08:01:56.495299Z",
     "shell.execute_reply": "2024-11-29T08:01:56.494097Z"
    },
    "papermill": {
     "duration": 0.017466,
     "end_time": "2024-11-29T08:01:56.497735",
     "exception": false,
     "start_time": "2024-11-29T08:01:56.480269",
     "status": "completed"
    },
    "tags": []
   },
   "outputs": [],
   "source": [
    "user_data['cat_col_concat'] = user_data['Device Model'] + '_' + user_data['Operating System'] + '_' + user_data['Gender']"
   ]
  },
  {
   "cell_type": "code",
   "execution_count": 5,
   "id": "243d9945",
   "metadata": {
    "execution": {
     "iopub.execute_input": "2024-11-29T08:01:56.511826Z",
     "iopub.status.busy": "2024-11-29T08:01:56.511460Z",
     "iopub.status.idle": "2024-11-29T08:01:57.766442Z",
     "shell.execute_reply": "2024-11-29T08:01:57.765400Z"
    },
    "papermill": {
     "duration": 1.265158,
     "end_time": "2024-11-29T08:01:57.768705",
     "exception": false,
     "start_time": "2024-11-29T08:01:56.503547",
     "status": "completed"
    },
    "tags": []
   },
   "outputs": [],
   "source": [
    "from sklearn.model_selection import train_test_split\n",
    "\n",
    "train_data, test_data = train_test_split(user_data, test_size = 0.2, stratify = user_data['cat_col_concat'])"
   ]
  },
  {
   "cell_type": "code",
   "execution_count": 6,
   "id": "e4085c6e",
   "metadata": {
    "execution": {
     "iopub.execute_input": "2024-11-29T08:01:57.781406Z",
     "iopub.status.busy": "2024-11-29T08:01:57.780865Z",
     "iopub.status.idle": "2024-11-29T08:01:57.793984Z",
     "shell.execute_reply": "2024-11-29T08:01:57.792828Z"
    },
    "papermill": {
     "duration": 0.021991,
     "end_time": "2024-11-29T08:01:57.796205",
     "exception": false,
     "start_time": "2024-11-29T08:01:57.774214",
     "status": "completed"
    },
    "tags": []
   },
   "outputs": [
    {
     "name": "stdout",
     "output_type": "stream",
     "text": [
      "<class 'pandas.core.frame.DataFrame'>\n",
      "Index: 560 entries, 369 to 444\n",
      "Data columns (total 11 columns):\n",
      " #   Column                      Non-Null Count  Dtype  \n",
      "---  ------                      --------------  -----  \n",
      " 0   Device Model                560 non-null    object \n",
      " 1   Operating System            560 non-null    object \n",
      " 2   App Usage Time (min/day)    560 non-null    int64  \n",
      " 3   Screen On Time (hours/day)  560 non-null    float64\n",
      " 4   Battery Drain (mAh/day)     560 non-null    int64  \n",
      " 5   Number of Apps Installed    560 non-null    int64  \n",
      " 6   Data Usage (MB/day)         560 non-null    int64  \n",
      " 7   Age                         560 non-null    int64  \n",
      " 8   Gender                      560 non-null    object \n",
      " 9   User Behavior Class         560 non-null    int64  \n",
      " 10  cat_col_concat              560 non-null    object \n",
      "dtypes: float64(1), int64(6), object(4)\n",
      "memory usage: 52.5+ KB\n"
     ]
    }
   ],
   "source": [
    "train_data.info()"
   ]
  },
  {
   "cell_type": "code",
   "execution_count": 7,
   "id": "c812df47",
   "metadata": {
    "execution": {
     "iopub.execute_input": "2024-11-29T08:01:57.809057Z",
     "iopub.status.busy": "2024-11-29T08:01:57.808662Z",
     "iopub.status.idle": "2024-11-29T08:01:57.816997Z",
     "shell.execute_reply": "2024-11-29T08:01:57.815951Z"
    },
    "papermill": {
     "duration": 0.017333,
     "end_time": "2024-11-29T08:01:57.819203",
     "exception": false,
     "start_time": "2024-11-29T08:01:57.801870",
     "status": "completed"
    },
    "tags": []
   },
   "outputs": [],
   "source": [
    "X_train = train_data.drop(['User Behavior Class', 'cat_col_concat'], axis = 1)\n",
    "y_train = train_data['User Behavior Class']\n",
    "\n",
    "X_test = test_data.drop(['User Behavior Class', 'cat_col_concat'], axis = 1)\n",
    "y_test = test_data['User Behavior Class']"
   ]
  },
  {
   "cell_type": "code",
   "execution_count": 8,
   "id": "715d8acd",
   "metadata": {
    "execution": {
     "iopub.execute_input": "2024-11-29T08:01:57.832258Z",
     "iopub.status.busy": "2024-11-29T08:01:57.831745Z",
     "iopub.status.idle": "2024-11-29T08:01:57.854515Z",
     "shell.execute_reply": "2024-11-29T08:01:57.853416Z"
    },
    "papermill": {
     "duration": 0.031667,
     "end_time": "2024-11-29T08:01:57.856719",
     "exception": false,
     "start_time": "2024-11-29T08:01:57.825052",
     "status": "completed"
    },
    "tags": []
   },
   "outputs": [
    {
     "data": {
      "text/html": [
       "<div>\n",
       "<style scoped>\n",
       "    .dataframe tbody tr th:only-of-type {\n",
       "        vertical-align: middle;\n",
       "    }\n",
       "\n",
       "    .dataframe tbody tr th {\n",
       "        vertical-align: top;\n",
       "    }\n",
       "\n",
       "    .dataframe thead th {\n",
       "        text-align: right;\n",
       "    }\n",
       "</style>\n",
       "<table border=\"1\" class=\"dataframe\">\n",
       "  <thead>\n",
       "    <tr style=\"text-align: right;\">\n",
       "      <th></th>\n",
       "      <th>Device Model</th>\n",
       "      <th>Operating System</th>\n",
       "      <th>App Usage Time (min/day)</th>\n",
       "      <th>Screen On Time (hours/day)</th>\n",
       "      <th>Battery Drain (mAh/day)</th>\n",
       "      <th>Number of Apps Installed</th>\n",
       "      <th>Data Usage (MB/day)</th>\n",
       "      <th>Age</th>\n",
       "      <th>Gender</th>\n",
       "    </tr>\n",
       "    <tr>\n",
       "      <th>User ID</th>\n",
       "      <th></th>\n",
       "      <th></th>\n",
       "      <th></th>\n",
       "      <th></th>\n",
       "      <th></th>\n",
       "      <th></th>\n",
       "      <th></th>\n",
       "      <th></th>\n",
       "      <th></th>\n",
       "    </tr>\n",
       "  </thead>\n",
       "  <tbody>\n",
       "    <tr>\n",
       "      <th>89</th>\n",
       "      <td>Xiaomi Mi 11</td>\n",
       "      <td>Android</td>\n",
       "      <td>137</td>\n",
       "      <td>3.3</td>\n",
       "      <td>839</td>\n",
       "      <td>31</td>\n",
       "      <td>348</td>\n",
       "      <td>34</td>\n",
       "      <td>Female</td>\n",
       "    </tr>\n",
       "    <tr>\n",
       "      <th>558</th>\n",
       "      <td>Samsung Galaxy S21</td>\n",
       "      <td>Android</td>\n",
       "      <td>198</td>\n",
       "      <td>4.2</td>\n",
       "      <td>1392</td>\n",
       "      <td>43</td>\n",
       "      <td>640</td>\n",
       "      <td>27</td>\n",
       "      <td>Male</td>\n",
       "    </tr>\n",
       "    <tr>\n",
       "      <th>5</th>\n",
       "      <td>iPhone 12</td>\n",
       "      <td>iOS</td>\n",
       "      <td>187</td>\n",
       "      <td>4.3</td>\n",
       "      <td>1367</td>\n",
       "      <td>58</td>\n",
       "      <td>988</td>\n",
       "      <td>31</td>\n",
       "      <td>Female</td>\n",
       "    </tr>\n",
       "    <tr>\n",
       "      <th>361</th>\n",
       "      <td>Samsung Galaxy S21</td>\n",
       "      <td>Android</td>\n",
       "      <td>517</td>\n",
       "      <td>11.8</td>\n",
       "      <td>2435</td>\n",
       "      <td>86</td>\n",
       "      <td>2208</td>\n",
       "      <td>26</td>\n",
       "      <td>Male</td>\n",
       "    </tr>\n",
       "    <tr>\n",
       "      <th>458</th>\n",
       "      <td>OnePlus 9</td>\n",
       "      <td>Android</td>\n",
       "      <td>234</td>\n",
       "      <td>4.7</td>\n",
       "      <td>1707</td>\n",
       "      <td>55</td>\n",
       "      <td>871</td>\n",
       "      <td>46</td>\n",
       "      <td>Male</td>\n",
       "    </tr>\n",
       "    <tr>\n",
       "      <th>...</th>\n",
       "      <td>...</td>\n",
       "      <td>...</td>\n",
       "      <td>...</td>\n",
       "      <td>...</td>\n",
       "      <td>...</td>\n",
       "      <td>...</td>\n",
       "      <td>...</td>\n",
       "      <td>...</td>\n",
       "      <td>...</td>\n",
       "    </tr>\n",
       "    <tr>\n",
       "      <th>680</th>\n",
       "      <td>iPhone 12</td>\n",
       "      <td>iOS</td>\n",
       "      <td>33</td>\n",
       "      <td>1.8</td>\n",
       "      <td>334</td>\n",
       "      <td>16</td>\n",
       "      <td>113</td>\n",
       "      <td>36</td>\n",
       "      <td>Female</td>\n",
       "    </tr>\n",
       "    <tr>\n",
       "      <th>438</th>\n",
       "      <td>iPhone 12</td>\n",
       "      <td>iOS</td>\n",
       "      <td>41</td>\n",
       "      <td>1.7</td>\n",
       "      <td>408</td>\n",
       "      <td>16</td>\n",
       "      <td>291</td>\n",
       "      <td>34</td>\n",
       "      <td>Male</td>\n",
       "    </tr>\n",
       "    <tr>\n",
       "      <th>46</th>\n",
       "      <td>Xiaomi Mi 11</td>\n",
       "      <td>Android</td>\n",
       "      <td>502</td>\n",
       "      <td>10.9</td>\n",
       "      <td>2476</td>\n",
       "      <td>96</td>\n",
       "      <td>1935</td>\n",
       "      <td>39</td>\n",
       "      <td>Male</td>\n",
       "    </tr>\n",
       "    <tr>\n",
       "      <th>247</th>\n",
       "      <td>Google Pixel 5</td>\n",
       "      <td>Android</td>\n",
       "      <td>71</td>\n",
       "      <td>1.5</td>\n",
       "      <td>590</td>\n",
       "      <td>17</td>\n",
       "      <td>257</td>\n",
       "      <td>33</td>\n",
       "      <td>Male</td>\n",
       "    </tr>\n",
       "    <tr>\n",
       "      <th>286</th>\n",
       "      <td>OnePlus 9</td>\n",
       "      <td>Android</td>\n",
       "      <td>534</td>\n",
       "      <td>10.8</td>\n",
       "      <td>2805</td>\n",
       "      <td>90</td>\n",
       "      <td>1538</td>\n",
       "      <td>37</td>\n",
       "      <td>Male</td>\n",
       "    </tr>\n",
       "  </tbody>\n",
       "</table>\n",
       "<p>140 rows × 9 columns</p>\n",
       "</div>"
      ],
      "text/plain": [
       "               Device Model Operating System  App Usage Time (min/day)  \\\n",
       "User ID                                                                  \n",
       "89             Xiaomi Mi 11          Android                       137   \n",
       "558      Samsung Galaxy S21          Android                       198   \n",
       "5                 iPhone 12              iOS                       187   \n",
       "361      Samsung Galaxy S21          Android                       517   \n",
       "458               OnePlus 9          Android                       234   \n",
       "...                     ...              ...                       ...   \n",
       "680               iPhone 12              iOS                        33   \n",
       "438               iPhone 12              iOS                        41   \n",
       "46             Xiaomi Mi 11          Android                       502   \n",
       "247          Google Pixel 5          Android                        71   \n",
       "286               OnePlus 9          Android                       534   \n",
       "\n",
       "         Screen On Time (hours/day)  Battery Drain (mAh/day)  \\\n",
       "User ID                                                        \n",
       "89                              3.3                      839   \n",
       "558                             4.2                     1392   \n",
       "5                               4.3                     1367   \n",
       "361                            11.8                     2435   \n",
       "458                             4.7                     1707   \n",
       "...                             ...                      ...   \n",
       "680                             1.8                      334   \n",
       "438                             1.7                      408   \n",
       "46                             10.9                     2476   \n",
       "247                             1.5                      590   \n",
       "286                            10.8                     2805   \n",
       "\n",
       "         Number of Apps Installed  Data Usage (MB/day)  Age  Gender  \n",
       "User ID                                                              \n",
       "89                             31                  348   34  Female  \n",
       "558                            43                  640   27    Male  \n",
       "5                              58                  988   31  Female  \n",
       "361                            86                 2208   26    Male  \n",
       "458                            55                  871   46    Male  \n",
       "...                           ...                  ...  ...     ...  \n",
       "680                            16                  113   36  Female  \n",
       "438                            16                  291   34    Male  \n",
       "46                             96                 1935   39    Male  \n",
       "247                            17                  257   33    Male  \n",
       "286                            90                 1538   37    Male  \n",
       "\n",
       "[140 rows x 9 columns]"
      ]
     },
     "execution_count": 8,
     "metadata": {},
     "output_type": "execute_result"
    }
   ],
   "source": [
    "X_test"
   ]
  },
  {
   "cell_type": "markdown",
   "id": "845ea869",
   "metadata": {
    "papermill": {
     "duration": 0.005467,
     "end_time": "2024-11-29T08:01:57.868287",
     "exception": false,
     "start_time": "2024-11-29T08:01:57.862820",
     "status": "completed"
    },
    "tags": []
   },
   "source": [
    "# 1. EDA"
   ]
  },
  {
   "cell_type": "code",
   "execution_count": 9,
   "id": "2a7fd8e6",
   "metadata": {
    "execution": {
     "iopub.execute_input": "2024-11-29T08:01:57.881358Z",
     "iopub.status.busy": "2024-11-29T08:01:57.880952Z",
     "iopub.status.idle": "2024-11-29T08:01:59.309884Z",
     "shell.execute_reply": "2024-11-29T08:01:59.308754Z"
    },
    "papermill": {
     "duration": 1.438368,
     "end_time": "2024-11-29T08:01:59.312353",
     "exception": false,
     "start_time": "2024-11-29T08:01:57.873985",
     "status": "completed"
    },
    "tags": []
   },
   "outputs": [
    {
     "data": {
      "image/png": "[encoded data removed]",
      "text/plain": [
       "<Figure size 800x600 with 6 Axes>"
      ]
     },
     "metadata": {},
     "output_type": "display_data"
    }
   ],
   "source": [
    "import matplotlib.pyplot as plt\n",
    "\n",
    "X_train.hist(bins = 50, figsize = (8, 6))\n",
    "plt.show()"
   ]
  },
  {
   "cell_type": "code",
   "execution_count": 10,
   "id": "1c9cdfe5",
   "metadata": {
    "execution": {
     "iopub.execute_input": "2024-11-29T08:01:59.327614Z",
     "iopub.status.busy": "2024-11-29T08:01:59.327255Z",
     "iopub.status.idle": "2024-11-29T08:01:59.543602Z",
     "shell.execute_reply": "2024-11-29T08:01:59.542438Z"
    },
    "papermill": {
     "duration": 0.227781,
     "end_time": "2024-11-29T08:01:59.546949",
     "exception": false,
     "start_time": "2024-11-29T08:01:59.319168",
     "status": "completed"
    },
    "tags": []
   },
   "outputs": [
    {
     "data": {
      "text/plain": [
       "<Axes: ylabel='Frequency'>"
      ]
     },
     "execution_count": 10,
     "metadata": {},
     "output_type": "execute_result"
    },
    {
     "data": {
      "image/png": "[encoded data removed]",
      "text/plain": [
       "<Figure size 640x480 with 1 Axes>"
      ]
     },
     "metadata": {},
     "output_type": "display_data"
    }
   ],
   "source": [
    "np.log(X_train[\"App Usage Time (min/day)\"]).plot.hist()"
   ]
  },
  {
   "cell_type": "code",
   "execution_count": 11,
   "id": "1b85b5cb",
   "metadata": {
    "execution": {
     "iopub.execute_input": "2024-11-29T08:01:59.565501Z",
     "iopub.status.busy": "2024-11-29T08:01:59.564374Z",
     "iopub.status.idle": "2024-11-29T08:01:59.807852Z",
     "shell.execute_reply": "2024-11-29T08:01:59.806562Z"
    },
    "papermill": {
     "duration": 0.254847,
     "end_time": "2024-11-29T08:01:59.810185",
     "exception": false,
     "start_time": "2024-11-29T08:01:59.555338",
     "status": "completed"
    },
    "tags": []
   },
   "outputs": [
    {
     "data": {
      "text/plain": [
       "<Axes: ylabel='Frequency'>"
      ]
     },
     "execution_count": 11,
     "metadata": {},
     "output_type": "execute_result"
    },
    {
     "data": {
      "image/png": "[encoded data removed]",
      "text/plain": [
       "<Figure size 640x480 with 1 Axes>"
      ]
     },
     "metadata": {},
     "output_type": "display_data"
    }
   ],
   "source": [
    "np.log(X_train[\"Screen On Time (hours/day)\"]).plot.hist()"
   ]
  },
  {
   "cell_type": "code",
   "execution_count": 12,
   "id": "c3c048f1",
   "metadata": {
    "execution": {
     "iopub.execute_input": "2024-11-29T08:01:59.826908Z",
     "iopub.status.busy": "2024-11-29T08:01:59.826497Z",
     "iopub.status.idle": "2024-11-29T08:02:00.093992Z",
     "shell.execute_reply": "2024-11-29T08:02:00.092798Z"
    },
    "papermill": {
     "duration": 0.278453,
     "end_time": "2024-11-29T08:02:00.096152",
     "exception": false,
     "start_time": "2024-11-29T08:01:59.817699",
     "status": "completed"
    },
    "tags": []
   },
   "outputs": [
    {
     "data": {
      "text/plain": [
       "<Axes: ylabel='Frequency'>"
      ]
     },
     "execution_count": 12,
     "metadata": {},
     "output_type": "execute_result"
    },
    {
     "data": {
      "image/png": "[encoded data removed]",
      "text/plain": [
       "<Figure size 640x480 with 1 Axes>"
      ]
     },
     "metadata": {},
     "output_type": "display_data"
    }
   ],
   "source": [
    "np.log(X_train[\"Data Usage (MB/day)\"]).plot.hist()"
   ]
  },
  {
   "cell_type": "code",
   "execution_count": 13,
   "id": "a7591f1b",
   "metadata": {
    "execution": {
     "iopub.execute_input": "2024-11-29T08:02:00.114595Z",
     "iopub.status.busy": "2024-11-29T08:02:00.113381Z",
     "iopub.status.idle": "2024-11-29T08:02:00.123640Z",
     "shell.execute_reply": "2024-11-29T08:02:00.122289Z"
    },
    "papermill": {
     "duration": 0.023708,
     "end_time": "2024-11-29T08:02:00.127967",
     "exception": false,
     "start_time": "2024-11-29T08:02:00.104259",
     "status": "completed"
    },
    "tags": []
   },
   "outputs": [],
   "source": [
    "X_train_int_col = X_train.select_dtypes(include = ['int']).columns\n",
    "X_train_float_col = X_train.select_dtypes(include = ['float']).columns\n",
    "X_train_cat_col = X_train.select_dtypes(include = ['object']).columns"
   ]
  },
  {
   "cell_type": "code",
   "execution_count": 14,
   "id": "45825ce4",
   "metadata": {
    "execution": {
     "iopub.execute_input": "2024-11-29T08:02:00.149823Z",
     "iopub.status.busy": "2024-11-29T08:02:00.148576Z",
     "iopub.status.idle": "2024-11-29T08:02:00.168736Z",
     "shell.execute_reply": "2024-11-29T08:02:00.167152Z"
    },
    "papermill": {
     "duration": 0.034463,
     "end_time": "2024-11-29T08:02:00.173052",
     "exception": false,
     "start_time": "2024-11-29T08:02:00.138589",
     "status": "completed"
    },
    "tags": []
   },
   "outputs": [
    {
     "data": {
      "text/plain": [
       "Device Model        Operating System  Gender\n",
       "Samsung Galaxy S21  Android           Male      63\n",
       "Xiaomi Mi 11        Android           Female    63\n",
       "iPhone 12           iOS               Female    59\n",
       "Google Pixel 5      Android           Male      58\n",
       "OnePlus 9           Android           Male      58\n",
       "iPhone 12           iOS               Male      58\n",
       "Google Pixel 5      Android           Female    55\n",
       "Xiaomi Mi 11        Android           Male      54\n",
       "OnePlus 9           Android           Female    49\n",
       "Samsung Galaxy S21  Android           Female    43\n",
       "Name: count, dtype: int64"
      ]
     },
     "execution_count": 14,
     "metadata": {},
     "output_type": "execute_result"
    }
   ],
   "source": [
    "X_train[X_train_cat_col].value_counts()"
   ]
  },
  {
   "cell_type": "markdown",
   "id": "fb0227b0",
   "metadata": {
    "papermill": {
     "duration": 0.009424,
     "end_time": "2024-11-29T08:02:00.192715",
     "exception": false,
     "start_time": "2024-11-29T08:02:00.183291",
     "status": "completed"
    },
    "tags": []
   },
   "source": [
    "# 2. Preprocessing Pipelines"
   ]
  },
  {
   "cell_type": "code",
   "execution_count": 15,
   "id": "9c8840b8",
   "metadata": {
    "execution": {
     "iopub.execute_input": "2024-11-29T08:02:00.217274Z",
     "iopub.status.busy": "2024-11-29T08:02:00.216007Z",
     "iopub.status.idle": "2024-11-29T08:02:00.222262Z",
     "shell.execute_reply": "2024-11-29T08:02:00.221077Z"
    },
    "papermill": {
     "duration": 0.023474,
     "end_time": "2024-11-29T08:02:00.227319",
     "exception": false,
     "start_time": "2024-11-29T08:02:00.203845",
     "status": "completed"
    },
    "tags": []
   },
   "outputs": [],
   "source": [
    "from sklearn.preprocessing import OrdinalEncoder, OneHotEncoder, StandardScaler, FunctionTransformer\n",
    "\n",
    "ordinal_encoder = OrdinalEncoder()\n",
    "oh_encoder = OneHotEncoder()\n",
    "std_scaler = StandardScaler()\n",
    "log_transformer = FunctionTransformer(np.log, inverse_func = np.exp)"
   ]
  },
  {
   "cell_type": "code",
   "execution_count": 16,
   "id": "ddd4d31f",
   "metadata": {
    "execution": {
     "iopub.execute_input": "2024-11-29T08:02:00.255751Z",
     "iopub.status.busy": "2024-11-29T08:02:00.255313Z",
     "iopub.status.idle": "2024-11-29T08:02:00.269835Z",
     "shell.execute_reply": "2024-11-29T08:02:00.268849Z"
    },
    "papermill": {
     "duration": 0.031554,
     "end_time": "2024-11-29T08:02:00.272239",
     "exception": false,
     "start_time": "2024-11-29T08:02:00.240685",
     "status": "completed"
    },
    "tags": []
   },
   "outputs": [],
   "source": [
    "from sklearn.pipeline import make_pipeline\n",
    "from sklearn.compose import ColumnTransformer\n",
    "\n",
    "\n",
    "log_pipeline = make_pipeline(\n",
    "    log_transformer,\n",
    "    std_scaler)\n",
    "\n",
    "cat_pipeline = make_pipeline(\n",
    "    ordinal_encoder,\n",
    "    oh_encoder)\n",
    "\n",
    "preprocessing = ColumnTransformer([\n",
    "    (\"int\", std_scaler, [\"App Usage Time (min/day)\", \"Battery Drain (mAh/day)\", \"Number of Apps Installed\", \"Age\"]),\n",
    "    (\"log\", log_pipeline, [\"Screen On Time (hours/day)\", \"Data Usage (MB/day)\"]),\n",
    "    (\"cat\", cat_pipeline, X_train_cat_col),\n",
    "])"
   ]
  },
  {
   "cell_type": "markdown",
   "id": "f88913a7",
   "metadata": {
    "papermill": {
     "duration": 0.00734,
     "end_time": "2024-11-29T08:02:00.287642",
     "exception": false,
     "start_time": "2024-11-29T08:02:00.280302",
     "status": "completed"
    },
    "tags": []
   },
   "source": [
    "# 3. Model Selection and Training"
   ]
  },
  {
   "cell_type": "code",
   "execution_count": 17,
   "id": "77a50466",
   "metadata": {
    "execution": {
     "iopub.execute_input": "2024-11-29T08:02:00.305001Z",
     "iopub.status.busy": "2024-11-29T08:02:00.304587Z",
     "iopub.status.idle": "2024-11-29T08:02:01.310967Z",
     "shell.execute_reply": "2024-11-29T08:02:01.309845Z"
    },
    "papermill": {
     "duration": 1.019895,
     "end_time": "2024-11-29T08:02:01.315246",
     "exception": false,
     "start_time": "2024-11-29T08:02:00.295351",
     "status": "completed"
    },
    "tags": []
   },
   "outputs": [
    {
     "data": {
      "text/html": [
       "<style>#sk-container-id-1 {color: black;background-color: white;}#sk-container-id-1 pre{padding: 0;}#sk-container-id-1 div.sk-toggleable {background-color: white;}#sk-container-id-1 label.sk-toggleable__label {cursor: pointer;display: block;width: 100%;margin-bottom: 0;padding: 0.3em;box-sizing: border-box;text-align: center;}#sk-container-id-1 label.sk-toggleable__label-arrow:before {content: \"▸\";float: left;margin-right: 0.25em;color: #696969;}#sk-container-id-1 label.sk-toggleable__label-arrow:hover:before {color: black;}#sk-container-id-1 div.sk-estimator:hover label.sk-toggleable__label-arrow:before {color: black;}#sk-container-id-1 div.sk-toggleable__content {max-height: 0;max-width: 0;overflow: hidden;text-align: left;background-color: #f0f8ff;}#sk-container-id-1 div.sk-toggleable__content pre {margin: 0.2em;color: black;border-radius: 0.25em;background-color: #f0f8ff;}#sk-container-id-1 input.sk-toggleable__control:checked~div.sk-toggleable__content {max-height: 200px;max-width: 100%;overflow: auto;}#sk-container-id-1 input.sk-toggleable__control:checked~label.sk-toggleable__label-arrow:before {content: \"▾\";}#sk-container-id-1 div.sk-estimator input.sk-toggleable__control:checked~label.sk-toggleable__label {background-color: #d4ebff;}#sk-container-id-1 div.sk-label input.sk-toggleable__control:checked~label.sk-toggleable__label {background-color: #d4ebff;}#sk-container-id-1 input.sk-hidden--visually {border: 0;clip: rect(1px 1px 1px 1px);clip: rect(1px, 1px, 1px, 1px);height: 1px;margin: -1px;overflow: hidden;padding: 0;position: absolute;width: 1px;}#sk-container-id-1 div.sk-estimator {font-family: monospace;background-color: #f0f8ff;border: 1px dotted black;border-radius: 0.25em;box-sizing: border-box;margin-bottom: 0.5em;}#sk-container-id-1 div.sk-estimator:hover {background-color: #d4ebff;}#sk-container-id-1 div.sk-parallel-item::after {content: \"\";width: 100%;border-bottom: 1px solid gray;flex-grow: 1;}#sk-container-id-1 div.sk-label:hover label.sk-toggleable__label {background-color: #d4ebff;}#sk-container-id-1 div.sk-serial::before {content: \"\";position: absolute;border-left: 1px solid gray;box-sizing: border-box;top: 0;bottom: 0;left: 50%;z-index: 0;}#sk-container-id-1 div.sk-serial {display: flex;flex-direction: column;align-items: center;background-color: white;padding-right: 0.2em;padding-left: 0.2em;position: relative;}#sk-container-id-1 div.sk-item {position: relative;z-index: 1;}#sk-container-id-1 div.sk-parallel {display: flex;align-items: stretch;justify-content: center;background-color: white;position: relative;}#sk-container-id-1 div.sk-item::before, #sk-container-id-1 div.sk-parallel-item::before {content: \"\";position: absolute;border-left: 1px solid gray;box-sizing: border-box;top: 0;bottom: 0;left: 50%;z-index: -1;}#sk-container-id-1 div.sk-parallel-item {display: flex;flex-direction: column;z-index: 1;position: relative;background-color: white;}#sk-container-id-1 div.sk-parallel-item:first-child::after {align-self: flex-end;width: 50%;}#sk-container-id-1 div.sk-parallel-item:last-child::after {align-self: flex-start;width: 50%;}#sk-container-id-1 div.sk-parallel-item:only-child::after {width: 0;}#sk-container-id-1 div.sk-dashed-wrapped {border: 1px dashed gray;margin: 0 0.4em 0.5em 0.4em;box-sizing: border-box;padding-bottom: 0.4em;background-color: white;}#sk-container-id-1 div.sk-label label {font-family: monospace;font-weight: bold;display: inline-block;line-height: 1.2em;}#sk-container-id-1 div.sk-label-container {text-align: center;}#sk-container-id-1 div.sk-container {/* jupyter's `normalize.less` sets `[hidden] { display: none; }` but bootstrap.min.css set `[hidden] { display: none !important; }` so we also need the `!important` here to be able to override the default hidden behavior on the sphinx rendered scikit-learn.org. See: https://github.com/scikit-learn/scikit-learn/issues/21755 */display: inline-block !important;position: relative;}#sk-container-id-1 div.sk-text-repr-fallback {display: none;}</style><div id=\"sk-container-id-1\" class=\"sk-top-container\"><div class=\"sk-text-repr-fallback\"><pre>Pipeline(steps=[(&#x27;columntransformer&#x27;,\n",
       "                 ColumnTransformer(transformers=[(&#x27;int&#x27;, StandardScaler(),\n",
       "                                                  [&#x27;App Usage Time (min/day)&#x27;,\n",
       "                                                   &#x27;Battery Drain (mAh/day)&#x27;,\n",
       "                                                   &#x27;Number of Apps Installed&#x27;,\n",
       "                                                   &#x27;Age&#x27;]),\n",
       "                                                 (&#x27;log&#x27;,\n",
       "                                                  Pipeline(steps=[(&#x27;functiontransformer&#x27;,\n",
       "                                                                   FunctionTransformer(func=&lt;ufunc &#x27;log&#x27;&gt;,\n",
       "                                                                                       inverse_func=&lt;ufunc &#x27;exp&#x27;&gt;)),\n",
       "                                                                  (&#x27;standardscaler&#x27;,\n",
       "                                                                   StandardScaler())]),\n",
       "                                                  [&#x27;Screen On Time (hours/day)&#x27;,\n",
       "                                                   &#x27;Data Usage (MB/day)&#x27;]),\n",
       "                                                 (&#x27;cat&#x27;,\n",
       "                                                  Pipeline(steps=[(&#x27;ordinalencoder&#x27;,\n",
       "                                                                   OrdinalEncoder()),\n",
       "                                                                  (&#x27;onehotencoder&#x27;,\n",
       "                                                                   OneHotEncoder())]),\n",
       "                                                  Index([&#x27;Device Model&#x27;, &#x27;Operating System&#x27;, &#x27;Gender&#x27;], dtype=&#x27;object&#x27;))])),\n",
       "                (&#x27;randomforestclassifier&#x27;,\n",
       "                 RandomForestClassifier(max_leaf_nodes=64, n_estimators=200,\n",
       "                                        n_jobs=-1))])</pre><b>In a Jupyter environment, please rerun this cell to show the HTML representation or trust the notebook. <br />On GitHub, the HTML representation is unable to render, please try loading this page with nbviewer.org.</b></div><div class=\"sk-container\" hidden><div class=\"sk-item sk-dashed-wrapped\"><div class=\"sk-label-container\"><div class=\"sk-label sk-toggleable\"><input class=\"sk-toggleable__control sk-hidden--visually\" id=\"sk-estimator-id-1\" type=\"checkbox\" ><label for=\"sk-estimator-id-1\" class=\"sk-toggleable__label sk-toggleable__label-arrow\">Pipeline</label><div class=\"sk-toggleable__content\"><pre>Pipeline(steps=[(&#x27;columntransformer&#x27;,\n",
       "                 ColumnTransformer(transformers=[(&#x27;int&#x27;, StandardScaler(),\n",
       "                                                  [&#x27;App Usage Time (min/day)&#x27;,\n",
       "                                                   &#x27;Battery Drain (mAh/day)&#x27;,\n",
       "                                                   &#x27;Number of Apps Installed&#x27;,\n",
       "                                                   &#x27;Age&#x27;]),\n",
       "                                                 (&#x27;log&#x27;,\n",
       "                                                  Pipeline(steps=[(&#x27;functiontransformer&#x27;,\n",
       "                                                                   FunctionTransformer(func=&lt;ufunc &#x27;log&#x27;&gt;,\n",
       "                                                                                       inverse_func=&lt;ufunc &#x27;exp&#x27;&gt;)),\n",
       "                                                                  (&#x27;standardscaler&#x27;,\n",
       "                                                                   StandardScaler())]),\n",
       "                                                  [&#x27;Screen On Time (hours/day)&#x27;,\n",
       "                                                   &#x27;Data Usage (MB/day)&#x27;]),\n",
       "                                                 (&#x27;cat&#x27;,\n",
       "                                                  Pipeline(steps=[(&#x27;ordinalencoder&#x27;,\n",
       "                                                                   OrdinalEncoder()),\n",
       "                                                                  (&#x27;onehotencoder&#x27;,\n",
       "                                                                   OneHotEncoder())]),\n",
       "                                                  Index([&#x27;Device Model&#x27;, &#x27;Operating System&#x27;, &#x27;Gender&#x27;], dtype=&#x27;object&#x27;))])),\n",
       "                (&#x27;randomforestclassifier&#x27;,\n",
       "                 RandomForestClassifier(max_leaf_nodes=64, n_estimators=200,\n",
       "                                        n_jobs=-1))])</pre></div></div></div><div class=\"sk-serial\"><div class=\"sk-item sk-dashed-wrapped\"><div class=\"sk-label-container\"><div class=\"sk-label sk-toggleable\"><input class=\"sk-toggleable__control sk-hidden--visually\" id=\"sk-estimator-id-2\" type=\"checkbox\" ><label for=\"sk-estimator-id-2\" class=\"sk-toggleable__label sk-toggleable__label-arrow\">columntransformer: ColumnTransformer</label><div class=\"sk-toggleable__content\"><pre>ColumnTransformer(transformers=[(&#x27;int&#x27;, StandardScaler(),\n",
       "                                 [&#x27;App Usage Time (min/day)&#x27;,\n",
       "                                  &#x27;Battery Drain (mAh/day)&#x27;,\n",
       "                                  &#x27;Number of Apps Installed&#x27;, &#x27;Age&#x27;]),\n",
       "                                (&#x27;log&#x27;,\n",
       "                                 Pipeline(steps=[(&#x27;functiontransformer&#x27;,\n",
       "                                                  FunctionTransformer(func=&lt;ufunc &#x27;log&#x27;&gt;,\n",
       "                                                                      inverse_func=&lt;ufunc &#x27;exp&#x27;&gt;)),\n",
       "                                                 (&#x27;standardscaler&#x27;,\n",
       "                                                  StandardScaler())]),\n",
       "                                 [&#x27;Screen On Time (hours/day)&#x27;,\n",
       "                                  &#x27;Data Usage (MB/day)&#x27;]),\n",
       "                                (&#x27;cat&#x27;,\n",
       "                                 Pipeline(steps=[(&#x27;ordinalencoder&#x27;,\n",
       "                                                  OrdinalEncoder()),\n",
       "                                                 (&#x27;onehotencoder&#x27;,\n",
       "                                                  OneHotEncoder())]),\n",
       "                                 Index([&#x27;Device Model&#x27;, &#x27;Operating System&#x27;, &#x27;Gender&#x27;], dtype=&#x27;object&#x27;))])</pre></div></div></div><div class=\"sk-parallel\"><div class=\"sk-parallel-item\"><div class=\"sk-item\"><div class=\"sk-label-container\"><div class=\"sk-label sk-toggleable\"><input class=\"sk-toggleable__control sk-hidden--visually\" id=\"sk-estimator-id-3\" type=\"checkbox\" ><label for=\"sk-estimator-id-3\" class=\"sk-toggleable__label sk-toggleable__label-arrow\">int</label><div class=\"sk-toggleable__content\"><pre>[&#x27;App Usage Time (min/day)&#x27;, &#x27;Battery Drain (mAh/day)&#x27;, &#x27;Number of Apps Installed&#x27;, &#x27;Age&#x27;]</pre></div></div></div><div class=\"sk-serial\"><div class=\"sk-item\"><div class=\"sk-estimator sk-toggleable\"><input class=\"sk-toggleable__control sk-hidden--visually\" id=\"sk-estimator-id-4\" type=\"checkbox\" ><label for=\"sk-estimator-id-4\" class=\"sk-toggleable__label sk-toggleable__label-arrow\">StandardScaler</label><div class=\"sk-toggleable__content\"><pre>StandardScaler()</pre></div></div></div></div></div></div><div class=\"sk-parallel-item\"><div class=\"sk-item\"><div class=\"sk-label-container\"><div class=\"sk-label sk-toggleable\"><input class=\"sk-toggleable__control sk-hidden--visually\" id=\"sk-estimator-id-5\" type=\"checkbox\" ><label for=\"sk-estimator-id-5\" class=\"sk-toggleable__label sk-toggleable__label-arrow\">log</label><div class=\"sk-toggleable__content\"><pre>[&#x27;Screen On Time (hours/day)&#x27;, &#x27;Data Usage (MB/day)&#x27;]</pre></div></div></div><div class=\"sk-serial\"><div class=\"sk-item\"><div class=\"sk-serial\"><div class=\"sk-item\"><div class=\"sk-estimator sk-toggleable\"><input class=\"sk-toggleable__control sk-hidden--visually\" id=\"sk-estimator-id-6\" type=\"checkbox\" ><label for=\"sk-estimator-id-6\" class=\"sk-toggleable__label sk-toggleable__label-arrow\">FunctionTransformer</label><div class=\"sk-toggleable__content\"><pre>FunctionTransformer(func=&lt;ufunc &#x27;log&#x27;&gt;, inverse_func=&lt;ufunc &#x27;exp&#x27;&gt;)</pre></div></div></div><div class=\"sk-item\"><div class=\"sk-estimator sk-toggleable\"><input class=\"sk-toggleable__control sk-hidden--visually\" id=\"sk-estimator-id-7\" type=\"checkbox\" ><label for=\"sk-estimator-id-7\" class=\"sk-toggleable__label sk-toggleable__label-arrow\">StandardScaler</label><div class=\"sk-toggleable__content\"><pre>StandardScaler()</pre></div></div></div></div></div></div></div></div><div class=\"sk-parallel-item\"><div class=\"sk-item\"><div class=\"sk-label-container\"><div class=\"sk-label sk-toggleable\"><input class=\"sk-toggleable__control sk-hidden--visually\" id=\"sk-estimator-id-8\" type=\"checkbox\" ><label for=\"sk-estimator-id-8\" class=\"sk-toggleable__label sk-toggleable__label-arrow\">cat</label><div class=\"sk-toggleable__content\"><pre>Index([&#x27;Device Model&#x27;, &#x27;Operating System&#x27;, &#x27;Gender&#x27;], dtype=&#x27;object&#x27;)</pre></div></div></div><div class=\"sk-serial\"><div class=\"sk-item\"><div class=\"sk-serial\"><div class=\"sk-item\"><div class=\"sk-estimator sk-toggleable\"><input class=\"sk-toggleable__control sk-hidden--visually\" id=\"sk-estimator-id-9\" type=\"checkbox\" ><label for=\"sk-estimator-id-9\" class=\"sk-toggleable__label sk-toggleable__label-arrow\">OrdinalEncoder</label><div class=\"sk-toggleable__content\"><pre>OrdinalEncoder()</pre></div></div></div><div class=\"sk-item\"><div class=\"sk-estimator sk-toggleable\"><input class=\"sk-toggleable__control sk-hidden--visually\" id=\"sk-estimator-id-10\" type=\"checkbox\" ><label for=\"sk-estimator-id-10\" class=\"sk-toggleable__label sk-toggleable__label-arrow\">OneHotEncoder</label><div class=\"sk-toggleable__content\"><pre>OneHotEncoder()</pre></div></div></div></div></div></div></div></div></div></div><div class=\"sk-item\"><div class=\"sk-estimator sk-toggleable\"><input class=\"sk-toggleable__control sk-hidden--visually\" id=\"sk-estimator-id-11\" type=\"checkbox\" ><label for=\"sk-estimator-id-11\" class=\"sk-toggleable__label sk-toggleable__label-arrow\">RandomForestClassifier</label><div class=\"sk-toggleable__content\"><pre>RandomForestClassifier(max_leaf_nodes=64, n_estimators=200, n_jobs=-1)</pre></div></div></div></div></div></div></div>"
      ],
      "text/plain": [
       "Pipeline(steps=[('columntransformer',\n",
       "                 ColumnTransformer(transformers=[('int', StandardScaler(),\n",
       "                                                  ['App Usage Time (min/day)',\n",
       "                                                   'Battery Drain (mAh/day)',\n",
       "                                                   'Number of Apps Installed',\n",
       "                                                   'Age']),\n",
       "                                                 ('log',\n",
       "                                                  Pipeline(steps=[('functiontransformer',\n",
       "                                                                   FunctionTransformer(func=<ufunc 'log'>,\n",
       "                                                                                       inverse_func=<ufunc 'exp'>)),\n",
       "                                                                  ('standardscaler',\n",
       "                                                                   StandardScaler())]),\n",
       "                                                  ['Screen On Time (hours/day)',\n",
       "                                                   'Data Usage (MB/day)']),\n",
       "                                                 ('cat',\n",
       "                                                  Pipeline(steps=[('ordinalencoder',\n",
       "                                                                   OrdinalEncoder()),\n",
       "                                                                  ('onehotencoder',\n",
       "                                                                   OneHotEncoder())]),\n",
       "                                                  Index(['Device Model', 'Operating System', 'Gender'], dtype='object'))])),\n",
       "                ('randomforestclassifier',\n",
       "                 RandomForestClassifier(max_leaf_nodes=64, n_estimators=200,\n",
       "                                        n_jobs=-1))])"
      ]
     },
     "execution_count": 17,
     "metadata": {},
     "output_type": "execute_result"
    }
   ],
   "source": [
    "from sklearn.ensemble import RandomForestClassifier\n",
    "\n",
    "rf_pipeline = make_pipeline(\n",
    "    preprocessing,\n",
    "    RandomForestClassifier(n_estimators = 200, max_leaf_nodes = 64, n_jobs = -1)\n",
    ")\n",
    "\n",
    "rf_pipeline.fit(X_train, y_train)"
   ]
  },
  {
   "cell_type": "code",
   "execution_count": 18,
   "id": "ab63d007",
   "metadata": {
    "execution": {
     "iopub.execute_input": "2024-11-29T08:02:01.341641Z",
     "iopub.status.busy": "2024-11-29T08:02:01.341178Z",
     "iopub.status.idle": "2024-11-29T08:02:01.433651Z",
     "shell.execute_reply": "2024-11-29T08:02:01.432617Z"
    },
    "papermill": {
     "duration": 0.106299,
     "end_time": "2024-11-29T08:02:01.436097",
     "exception": false,
     "start_time": "2024-11-29T08:02:01.329798",
     "status": "completed"
    },
    "tags": []
   },
   "outputs": [],
   "source": [
    "y_test_pred_rf = rf_pipeline.predict(X_test)"
   ]
  },
  {
   "cell_type": "markdown",
   "id": "cfdb5ad5",
   "metadata": {
    "papermill": {
     "duration": 0.008523,
     "end_time": "2024-11-29T08:02:01.453621",
     "exception": false,
     "start_time": "2024-11-29T08:02:01.445098",
     "status": "completed"
    },
    "tags": []
   },
   "source": [
    "# 4. Evaluating Model Performance"
   ]
  },
  {
   "cell_type": "code",
   "execution_count": 19,
   "id": "0ad9ad88",
   "metadata": {
    "execution": {
     "iopub.execute_input": "2024-11-29T08:02:01.472466Z",
     "iopub.status.busy": "2024-11-29T08:02:01.472082Z",
     "iopub.status.idle": "2024-11-29T08:02:01.481454Z",
     "shell.execute_reply": "2024-11-29T08:02:01.480333Z"
    },
    "papermill": {
     "duration": 0.021203,
     "end_time": "2024-11-29T08:02:01.483579",
     "exception": false,
     "start_time": "2024-11-29T08:02:01.462376",
     "status": "completed"
    },
    "tags": []
   },
   "outputs": [
    {
     "data": {
      "text/plain": [
       "array([[25,  0,  0,  0,  0],\n",
       "       [ 0, 30,  0,  0,  0],\n",
       "       [ 0,  0, 34,  0,  0],\n",
       "       [ 0,  0,  0, 28,  0],\n",
       "       [ 0,  0,  0,  0, 23]])"
      ]
     },
     "execution_count": 19,
     "metadata": {},
     "output_type": "execute_result"
    }
   ],
   "source": [
    "from sklearn.metrics import confusion_matrix\n",
    "\n",
    "cm = confusion_matrix(y_test, y_test_pred_rf)\n",
    "cm"
   ]
  },
  {
   "cell_type": "code",
   "execution_count": 20,
   "id": "9545df03",
   "metadata": {
    "execution": {
     "iopub.execute_input": "2024-11-29T08:02:01.502267Z",
     "iopub.status.busy": "2024-11-29T08:02:01.501855Z",
     "iopub.status.idle": "2024-11-29T08:02:01.517062Z",
     "shell.execute_reply": "2024-11-29T08:02:01.516032Z"
    },
    "papermill": {
     "duration": 0.027213,
     "end_time": "2024-11-29T08:02:01.519154",
     "exception": false,
     "start_time": "2024-11-29T08:02:01.491941",
     "status": "completed"
    },
    "tags": []
   },
   "outputs": [
    {
     "name": "stdout",
     "output_type": "stream",
     "text": [
      "Precision: 1.0\n",
      "Recall: 1.0\n",
      "F1 score: 1.0\n"
     ]
    }
   ],
   "source": [
    "# Precision, Recall, F1\n",
    "from sklearn.metrics import precision_score, recall_score, f1_score\n",
    "\n",
    "print(\"Precision: \" + precision_score(y_test, y_test_pred_rf, average = 'micro').astype(str))\n",
    "print(\"Recall: \" + recall_score(y_test, y_test_pred_rf, average = 'micro').astype(str))\n",
    "print(\"F1 score: \" + f1_score(y_test, y_test_pred_rf, average = 'micro').astype(str))"
   ]
  },
  {
   "cell_type": "code",
   "execution_count": 21,
   "id": "ae58e536",
   "metadata": {
    "execution": {
     "iopub.execute_input": "2024-11-29T08:02:01.538459Z",
     "iopub.status.busy": "2024-11-29T08:02:01.537732Z",
     "iopub.status.idle": "2024-11-29T08:02:03.449982Z",
     "shell.execute_reply": "2024-11-29T08:02:03.448823Z"
    },
    "papermill": {
     "duration": 1.924639,
     "end_time": "2024-11-29T08:02:03.452332",
     "exception": false,
     "start_time": "2024-11-29T08:02:01.527693",
     "status": "completed"
    },
    "tags": []
   },
   "outputs": [
    {
     "data": {
      "text/plain": [
       "array([1., 1., 1.])"
      ]
     },
     "execution_count": 21,
     "metadata": {},
     "output_type": "execute_result"
    }
   ],
   "source": [
    "from sklearn.model_selection import cross_val_score\n",
    "\n",
    "cross_val_score(rf_pipeline, X_train, y_train, cv = 3, scoring = \"accuracy\")"
   ]
  },
  {
   "cell_type": "code",
   "execution_count": 22,
   "id": "6e1d57ef",
   "metadata": {
    "execution": {
     "iopub.execute_input": "2024-11-29T08:02:03.471450Z",
     "iopub.status.busy": "2024-11-29T08:02:03.471008Z",
     "iopub.status.idle": "2024-11-29T08:02:05.317197Z",
     "shell.execute_reply": "2024-11-29T08:02:05.315976Z"
    },
    "papermill": {
     "duration": 1.858384,
     "end_time": "2024-11-29T08:02:05.319473",
     "exception": false,
     "start_time": "2024-11-29T08:02:03.461089",
     "status": "completed"
    },
    "tags": []
   },
   "outputs": [
    {
     "data": {
      "text/plain": [
       "1.0"
      ]
     },
     "execution_count": 22,
     "metadata": {},
     "output_type": "execute_result"
    }
   ],
   "source": [
    "from sklearn.model_selection import cross_val_predict\n",
    "from sklearn.metrics import precision_recall_curve, roc_auc_score\n",
    "\n",
    "y_probas_rf = cross_val_predict(rf_pipeline, X_train, y_train, cv = 3, method = \"predict_proba\")\n",
    "y_scores_rf = y_probas_rf[:, 1]\n",
    "roc_auc_score(y_train, y_probas_rf, average = 'macro', multi_class = 'ovo', labels = [1, 2, 3, 4, 5])"
   ]
  },
  {
   "cell_type": "markdown",
   "id": "a0d2d795",
   "metadata": {
    "papermill": {
     "duration": 0.008344,
     "end_time": "2024-11-29T08:02:05.336811",
     "exception": false,
     "start_time": "2024-11-29T08:02:05.328467",
     "status": "completed"
    },
    "tags": []
   },
   "source": [
    "**Conclusion**: RF too effective, lol."
   ]
  }
 ],
 "metadata": {
  "kaggle": {
   "accelerator": "none",
   "dataSources": [
    {
     "datasetId": 5784553,
     "sourceId": 9504237,
     "sourceType": "datasetVersion"
    }
   ],
   "dockerImageVersionId": 30786,
   "isGpuEnabled": false,
   "isInternetEnabled": true,
   "language": "python",
   "sourceType": "notebook"
  },
  "kernelspec": {
   "display_name": "Python 3",
   "language": "python",
   "name": "python3"
  },
  "language_info": {
   "codemirror_mode": {
    "name": "ipython",
    "version": 3
   },
   "file_extension": ".py",
   "mimetype": "text/x-python",
   "name": "python",
   "nbconvert_exporter": "python",
   "pygments_lexer": "ipython3",
   "version": "3.10.14"
  },
  "papermill": {
   "default_parameters": {},
   "duration": 13.435746,
   "end_time": "2024-11-29T08:02:06.067311",
   "environment_variables": {},
   "exception": null,
   "input_path": "__notebook__.ipynb",
   "output_path": "__notebook__.ipynb",
   "parameters": {},
   "start_time": "2024-11-29T08:01:52.631565",
   "version": "2.6.0"
  }
 },
 "nbformat": 4,
 "nbformat_minor": 5
}
