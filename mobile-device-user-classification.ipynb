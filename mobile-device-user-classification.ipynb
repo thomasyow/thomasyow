{
 "cells": [
  {
   "cell_type": "code",
   "execution_count": 1,
   "id": "86ad691b",
   "metadata": {
    "_cell_guid": "b1076dfc-b9ad-4769-8c92-a6c4dae69d19",
    "_uuid": "8f2839f25d086af736a60e9eeb907d3b93b6e0e5",
    "execution": {
     "iopub.execute_input": "2024-11-29T09:19:19.427774Z",
     "iopub.status.busy": "2024-11-29T09:19:19.426405Z",
     "iopub.status.idle": "2024-11-29T09:19:20.413704Z",
     "shell.execute_reply": "2024-11-29T09:19:20.412587Z"
    },
    "papermill": {
     "duration": 0.9991,
     "end_time": "2024-11-29T09:19:20.416223",
     "exception": false,
     "start_time": "2024-11-29T09:19:19.417123",
     "status": "completed"
    },
    "tags": []
   },
   "outputs": [
    {
     "name": "stdout",
     "output_type": "stream",
     "text": [
      "/kaggle/input/mobile-device-usage-and-user-behavior-dataset/user_behavior_dataset.csv\n"
     ]
    }
   ],
   "source": [
    "# This Python 3 environment comes with many helpful analytics libraries installed\n",
    "# It is defined by the kaggle/python Docker image: https://github.com/kaggle/docker-python\n",
    "# For example, here's several helpful packages to load\n",
    "\n",
    "import numpy as np # linear algebra\n",
    "import pandas as pd # data processing, CSV file I/O (e.g. pd.read_csv)\n",
    "\n",
    "# Input data files are available in the read-only \"../input/\" directory\n",
    "# For example, running this (by clicking run or pressing Shift+Enter) will list all files under the input directory\n",
    "\n",
    "import os\n",
    "for dirname, _, filenames in os.walk('/kaggle/input'):\n",
    "    for filename in filenames:\n",
    "        print(os.path.join(dirname, filename))\n",
    "\n",
    "# You can write up to 20GB to the current directory (/kaggle/working/) that gets preserved as output when you create a version using \"Save & Run All\" \n",
    "# You can also write temporary files to /kaggle/temp/, but they won't be saved outside of the current session"
   ]
  },
  {
   "cell_type": "markdown",
   "id": "78da0bd9",
   "metadata": {
    "papermill": {
     "duration": 0.005849,
     "end_time": "2024-11-29T09:19:20.428875",
     "exception": false,
     "start_time": "2024-11-29T09:19:20.423026",
     "status": "completed"
    },
    "tags": []
   },
   "source": [
    "# 0. Load Data and Split between Train (X) and Target (y)"
   ]
  },
  {
   "cell_type": "code",
   "execution_count": 2,
   "id": "9228cc7a",
   "metadata": {
    "execution": {
     "iopub.execute_input": "2024-11-29T09:19:20.443623Z",
     "iopub.status.busy": "2024-11-29T09:19:20.442992Z",
     "iopub.status.idle": "2024-11-29T09:19:20.474278Z",
     "shell.execute_reply": "2024-11-29T09:19:20.473192Z"
    },
    "papermill": {
     "duration": 0.041962,
     "end_time": "2024-11-29T09:19:20.477072",
     "exception": false,
     "start_time": "2024-11-29T09:19:20.435110",
     "status": "completed"
    },
    "tags": []
   },
   "outputs": [],
   "source": [
    "# Load csv data into table\n",
    "user_data = pd.read_csv('/kaggle/input/mobile-device-usage-and-user-behavior-dataset/user_behavior_dataset.csv')\n",
    "\n",
    "# Set \"User ID\" as table index\n",
    "user_data.set_index(keys = 'User ID', inplace = True)\n",
    "\n",
    "\n",
    "#train_data = train_data.drop('User ID', axis = 1) - Ignore"
   ]
  },
  {
   "cell_type": "code",
   "execution_count": 3,
   "id": "661b1bdf",
   "metadata": {
    "execution": {
     "iopub.execute_input": "2024-11-29T09:19:20.492020Z",
     "iopub.status.busy": "2024-11-29T09:19:20.491105Z",
     "iopub.status.idle": "2024-11-29T09:19:20.518475Z",
     "shell.execute_reply": "2024-11-29T09:19:20.517366Z"
    },
    "papermill": {
     "duration": 0.037526,
     "end_time": "2024-11-29T09:19:20.521131",
     "exception": false,
     "start_time": "2024-11-29T09:19:20.483605",
     "status": "completed"
    },
    "tags": []
   },
   "outputs": [
    {
     "name": "stdout",
     "output_type": "stream",
     "text": [
      "<class 'pandas.core.frame.DataFrame'>\n",
      "Index: 700 entries, 1 to 700\n",
      "Data columns (total 10 columns):\n",
      " #   Column                      Non-Null Count  Dtype  \n",
      "---  ------                      --------------  -----  \n",
      " 0   Device Model                700 non-null    object \n",
      " 1   Operating System            700 non-null    object \n",
      " 2   App Usage Time (min/day)    700 non-null    int64  \n",
      " 3   Screen On Time (hours/day)  700 non-null    float64\n",
      " 4   Battery Drain (mAh/day)     700 non-null    int64  \n",
      " 5   Number of Apps Installed    700 non-null    int64  \n",
      " 6   Data Usage (MB/day)         700 non-null    int64  \n",
      " 7   Age                         700 non-null    int64  \n",
      " 8   Gender                      700 non-null    object \n",
      " 9   User Behavior Class         700 non-null    int64  \n",
      "dtypes: float64(1), int64(6), object(3)\n",
      "memory usage: 60.2+ KB\n"
     ]
    }
   ],
   "source": [
    "# Quick glance of dataframe\n",
    "user_data.info()"
   ]
  },
  {
   "cell_type": "markdown",
   "id": "c9c79919",
   "metadata": {
    "papermill": {
     "duration": 0.006011,
     "end_time": "2024-11-29T09:19:20.534751",
     "exception": false,
     "start_time": "2024-11-29T09:19:20.528740",
     "status": "completed"
    },
    "tags": []
   },
   "source": [
    "We have 700 rows of user IDs, with various categorical, float, and integer features.\n",
    "Great that the data has no null rows to handle.\n",
    "\n",
    "Next, we want to split the train and test data. The test data is to evaluate the effectiveness of our model.\n",
    "The split will be 80-20 between train and test, with stratify sampling applied such that the outputs' mix (of categorical features) is as per the original data set."
   ]
  },
  {
   "cell_type": "code",
   "execution_count": 4,
   "id": "9feda269",
   "metadata": {
    "execution": {
     "iopub.execute_input": "2024-11-29T09:19:20.549957Z",
     "iopub.status.busy": "2024-11-29T09:19:20.548821Z",
     "iopub.status.idle": "2024-11-29T09:19:20.556845Z",
     "shell.execute_reply": "2024-11-29T09:19:20.555453Z"
    },
    "papermill": {
     "duration": 0.018202,
     "end_time": "2024-11-29T09:19:20.559247",
     "exception": false,
     "start_time": "2024-11-29T09:19:20.541045",
     "status": "completed"
    },
    "tags": []
   },
   "outputs": [],
   "source": [
    "# Create a concatenation of the three categorical features.\n",
    "user_data['cat_col_concat'] = user_data['Device Model'] + '_' + user_data['Operating System'] + '_' + user_data['Gender']"
   ]
  },
  {
   "cell_type": "code",
   "execution_count": 5,
   "id": "b6b2517a",
   "metadata": {
    "execution": {
     "iopub.execute_input": "2024-11-29T09:19:20.574228Z",
     "iopub.status.busy": "2024-11-29T09:19:20.573399Z",
     "iopub.status.idle": "2024-11-29T09:19:22.015241Z",
     "shell.execute_reply": "2024-11-29T09:19:22.014059Z"
    },
    "papermill": {
     "duration": 1.452081,
     "end_time": "2024-11-29T09:19:22.017945",
     "exception": false,
     "start_time": "2024-11-29T09:19:20.565864",
     "status": "completed"
    },
    "tags": []
   },
   "outputs": [],
   "source": [
    "# Perform train-test split with stratification\n",
    "from sklearn.model_selection import train_test_split\n",
    "\n",
    "train_data, test_data = train_test_split(user_data, test_size = 0.3, stratify = user_data['cat_col_concat'])"
   ]
  },
  {
   "cell_type": "code",
   "execution_count": 6,
   "id": "07091eaf",
   "metadata": {
    "execution": {
     "iopub.execute_input": "2024-11-29T09:19:22.032359Z",
     "iopub.status.busy": "2024-11-29T09:19:22.031712Z",
     "iopub.status.idle": "2024-11-29T09:19:22.046829Z",
     "shell.execute_reply": "2024-11-29T09:19:22.045702Z"
    },
    "papermill": {
     "duration": 0.024959,
     "end_time": "2024-11-29T09:19:22.049080",
     "exception": false,
     "start_time": "2024-11-29T09:19:22.024121",
     "status": "completed"
    },
    "tags": []
   },
   "outputs": [
    {
     "name": "stdout",
     "output_type": "stream",
     "text": [
      "<class 'pandas.core.frame.DataFrame'>\n",
      "Index: 490 entries, 395 to 497\n",
      "Data columns (total 11 columns):\n",
      " #   Column                      Non-Null Count  Dtype  \n",
      "---  ------                      --------------  -----  \n",
      " 0   Device Model                490 non-null    object \n",
      " 1   Operating System            490 non-null    object \n",
      " 2   App Usage Time (min/day)    490 non-null    int64  \n",
      " 3   Screen On Time (hours/day)  490 non-null    float64\n",
      " 4   Battery Drain (mAh/day)     490 non-null    int64  \n",
      " 5   Number of Apps Installed    490 non-null    int64  \n",
      " 6   Data Usage (MB/day)         490 non-null    int64  \n",
      " 7   Age                         490 non-null    int64  \n",
      " 8   Gender                      490 non-null    object \n",
      " 9   User Behavior Class         490 non-null    int64  \n",
      " 10  cat_col_concat              490 non-null    object \n",
      "dtypes: float64(1), int64(6), object(4)\n",
      "memory usage: 45.9+ KB\n"
     ]
    }
   ],
   "source": [
    "train_data.info()"
   ]
  },
  {
   "cell_type": "code",
   "execution_count": 7,
   "id": "ac7d624e",
   "metadata": {
    "execution": {
     "iopub.execute_input": "2024-11-29T09:19:22.063792Z",
     "iopub.status.busy": "2024-11-29T09:19:22.062506Z",
     "iopub.status.idle": "2024-11-29T09:19:22.071385Z",
     "shell.execute_reply": "2024-11-29T09:19:22.070181Z"
    },
    "papermill": {
     "duration": 0.018453,
     "end_time": "2024-11-29T09:19:22.073774",
     "exception": false,
     "start_time": "2024-11-29T09:19:22.055321",
     "status": "completed"
    },
    "tags": []
   },
   "outputs": [],
   "source": [
    "# Update the train and test tables, and separating out the target column (i.e. 'User Behavior Class')\n",
    "X_train = train_data.drop(['User Behavior Class', 'cat_col_concat'], axis = 1)\n",
    "y_train = train_data['User Behavior Class']\n",
    "\n",
    "X_test = test_data.drop(['User Behavior Class', 'cat_col_concat'], axis = 1)\n",
    "y_test = test_data['User Behavior Class']"
   ]
  },
  {
   "cell_type": "code",
   "execution_count": 8,
   "id": "e475c342",
   "metadata": {
    "execution": {
     "iopub.execute_input": "2024-11-29T09:19:22.087720Z",
     "iopub.status.busy": "2024-11-29T09:19:22.087291Z",
     "iopub.status.idle": "2024-11-29T09:19:22.111187Z",
     "shell.execute_reply": "2024-11-29T09:19:22.109877Z"
    },
    "papermill": {
     "duration": 0.03362,
     "end_time": "2024-11-29T09:19:22.113467",
     "exception": false,
     "start_time": "2024-11-29T09:19:22.079847",
     "status": "completed"
    },
    "tags": []
   },
   "outputs": [
    {
     "data": {
      "text/html": [
       "<div>\n",
       "<style scoped>\n",
       "    .dataframe tbody tr th:only-of-type {\n",
       "        vertical-align: middle;\n",
       "    }\n",
       "\n",
       "    .dataframe tbody tr th {\n",
       "        vertical-align: top;\n",
       "    }\n",
       "\n",
       "    .dataframe thead th {\n",
       "        text-align: right;\n",
       "    }\n",
       "</style>\n",
       "<table border=\"1\" class=\"dataframe\">\n",
       "  <thead>\n",
       "    <tr style=\"text-align: right;\">\n",
       "      <th></th>\n",
       "      <th>Device Model</th>\n",
       "      <th>Operating System</th>\n",
       "      <th>App Usage Time (min/day)</th>\n",
       "      <th>Screen On Time (hours/day)</th>\n",
       "      <th>Battery Drain (mAh/day)</th>\n",
       "      <th>Number of Apps Installed</th>\n",
       "      <th>Data Usage (MB/day)</th>\n",
       "      <th>Age</th>\n",
       "      <th>Gender</th>\n",
       "    </tr>\n",
       "    <tr>\n",
       "      <th>User ID</th>\n",
       "      <th></th>\n",
       "      <th></th>\n",
       "      <th></th>\n",
       "      <th></th>\n",
       "      <th></th>\n",
       "      <th></th>\n",
       "      <th></th>\n",
       "      <th></th>\n",
       "      <th></th>\n",
       "    </tr>\n",
       "  </thead>\n",
       "  <tbody>\n",
       "    <tr>\n",
       "      <th>546</th>\n",
       "      <td>OnePlus 9</td>\n",
       "      <td>Android</td>\n",
       "      <td>50</td>\n",
       "      <td>2.0</td>\n",
       "      <td>362</td>\n",
       "      <td>17</td>\n",
       "      <td>182</td>\n",
       "      <td>34</td>\n",
       "      <td>Female</td>\n",
       "    </tr>\n",
       "    <tr>\n",
       "      <th>430</th>\n",
       "      <td>Xiaomi Mi 11</td>\n",
       "      <td>Android</td>\n",
       "      <td>540</td>\n",
       "      <td>10.1</td>\n",
       "      <td>2757</td>\n",
       "      <td>90</td>\n",
       "      <td>2180</td>\n",
       "      <td>37</td>\n",
       "      <td>Male</td>\n",
       "    </tr>\n",
       "    <tr>\n",
       "      <th>111</th>\n",
       "      <td>OnePlus 9</td>\n",
       "      <td>Android</td>\n",
       "      <td>95</td>\n",
       "      <td>3.8</td>\n",
       "      <td>718</td>\n",
       "      <td>26</td>\n",
       "      <td>459</td>\n",
       "      <td>41</td>\n",
       "      <td>Female</td>\n",
       "    </tr>\n",
       "    <tr>\n",
       "      <th>477</th>\n",
       "      <td>Google Pixel 5</td>\n",
       "      <td>Android</td>\n",
       "      <td>318</td>\n",
       "      <td>6.6</td>\n",
       "      <td>2089</td>\n",
       "      <td>77</td>\n",
       "      <td>1126</td>\n",
       "      <td>49</td>\n",
       "      <td>Female</td>\n",
       "    </tr>\n",
       "    <tr>\n",
       "      <th>196</th>\n",
       "      <td>Google Pixel 5</td>\n",
       "      <td>Android</td>\n",
       "      <td>202</td>\n",
       "      <td>4.7</td>\n",
       "      <td>1512</td>\n",
       "      <td>49</td>\n",
       "      <td>659</td>\n",
       "      <td>45</td>\n",
       "      <td>Female</td>\n",
       "    </tr>\n",
       "    <tr>\n",
       "      <th>...</th>\n",
       "      <td>...</td>\n",
       "      <td>...</td>\n",
       "      <td>...</td>\n",
       "      <td>...</td>\n",
       "      <td>...</td>\n",
       "      <td>...</td>\n",
       "      <td>...</td>\n",
       "      <td>...</td>\n",
       "      <td>...</td>\n",
       "    </tr>\n",
       "    <tr>\n",
       "      <th>182</th>\n",
       "      <td>Google Pixel 5</td>\n",
       "      <td>Android</td>\n",
       "      <td>474</td>\n",
       "      <td>6.4</td>\n",
       "      <td>2109</td>\n",
       "      <td>68</td>\n",
       "      <td>1079</td>\n",
       "      <td>24</td>\n",
       "      <td>Male</td>\n",
       "    </tr>\n",
       "    <tr>\n",
       "      <th>505</th>\n",
       "      <td>Google Pixel 5</td>\n",
       "      <td>Android</td>\n",
       "      <td>493</td>\n",
       "      <td>8.5</td>\n",
       "      <td>2859</td>\n",
       "      <td>99</td>\n",
       "      <td>2450</td>\n",
       "      <td>47</td>\n",
       "      <td>Male</td>\n",
       "    </tr>\n",
       "    <tr>\n",
       "      <th>78</th>\n",
       "      <td>Google Pixel 5</td>\n",
       "      <td>Android</td>\n",
       "      <td>173</td>\n",
       "      <td>2.5</td>\n",
       "      <td>678</td>\n",
       "      <td>29</td>\n",
       "      <td>301</td>\n",
       "      <td>30</td>\n",
       "      <td>Female</td>\n",
       "    </tr>\n",
       "    <tr>\n",
       "      <th>612</th>\n",
       "      <td>Xiaomi Mi 11</td>\n",
       "      <td>Android</td>\n",
       "      <td>57</td>\n",
       "      <td>1.3</td>\n",
       "      <td>489</td>\n",
       "      <td>16</td>\n",
       "      <td>131</td>\n",
       "      <td>37</td>\n",
       "      <td>Male</td>\n",
       "    </tr>\n",
       "    <tr>\n",
       "      <th>260</th>\n",
       "      <td>Xiaomi Mi 11</td>\n",
       "      <td>Android</td>\n",
       "      <td>570</td>\n",
       "      <td>9.0</td>\n",
       "      <td>2613</td>\n",
       "      <td>98</td>\n",
       "      <td>2497</td>\n",
       "      <td>49</td>\n",
       "      <td>Female</td>\n",
       "    </tr>\n",
       "  </tbody>\n",
       "</table>\n",
       "<p>210 rows × 9 columns</p>\n",
       "</div>"
      ],
      "text/plain": [
       "           Device Model Operating System  App Usage Time (min/day)  \\\n",
       "User ID                                                              \n",
       "546           OnePlus 9          Android                        50   \n",
       "430        Xiaomi Mi 11          Android                       540   \n",
       "111           OnePlus 9          Android                        95   \n",
       "477      Google Pixel 5          Android                       318   \n",
       "196      Google Pixel 5          Android                       202   \n",
       "...                 ...              ...                       ...   \n",
       "182      Google Pixel 5          Android                       474   \n",
       "505      Google Pixel 5          Android                       493   \n",
       "78       Google Pixel 5          Android                       173   \n",
       "612        Xiaomi Mi 11          Android                        57   \n",
       "260        Xiaomi Mi 11          Android                       570   \n",
       "\n",
       "         Screen On Time (hours/day)  Battery Drain (mAh/day)  \\\n",
       "User ID                                                        \n",
       "546                             2.0                      362   \n",
       "430                            10.1                     2757   \n",
       "111                             3.8                      718   \n",
       "477                             6.6                     2089   \n",
       "196                             4.7                     1512   \n",
       "...                             ...                      ...   \n",
       "182                             6.4                     2109   \n",
       "505                             8.5                     2859   \n",
       "78                              2.5                      678   \n",
       "612                             1.3                      489   \n",
       "260                             9.0                     2613   \n",
       "\n",
       "         Number of Apps Installed  Data Usage (MB/day)  Age  Gender  \n",
       "User ID                                                              \n",
       "546                            17                  182   34  Female  \n",
       "430                            90                 2180   37    Male  \n",
       "111                            26                  459   41  Female  \n",
       "477                            77                 1126   49  Female  \n",
       "196                            49                  659   45  Female  \n",
       "...                           ...                  ...  ...     ...  \n",
       "182                            68                 1079   24    Male  \n",
       "505                            99                 2450   47    Male  \n",
       "78                             29                  301   30  Female  \n",
       "612                            16                  131   37    Male  \n",
       "260                            98                 2497   49  Female  \n",
       "\n",
       "[210 rows x 9 columns]"
      ]
     },
     "execution_count": 8,
     "metadata": {},
     "output_type": "execute_result"
    }
   ],
   "source": [
    "X_test"
   ]
  },
  {
   "cell_type": "markdown",
   "id": "70318e96",
   "metadata": {
    "papermill": {
     "duration": 0.006129,
     "end_time": "2024-11-29T09:19:22.126093",
     "exception": false,
     "start_time": "2024-11-29T09:19:22.119964",
     "status": "completed"
    },
    "tags": []
   },
   "source": [
    "# 1. Exploratory Data Analysis (EDA)"
   ]
  },
  {
   "cell_type": "code",
   "execution_count": 9,
   "id": "03b417f7",
   "metadata": {
    "execution": {
     "iopub.execute_input": "2024-11-29T09:19:22.141209Z",
     "iopub.status.busy": "2024-11-29T09:19:22.140179Z",
     "iopub.status.idle": "2024-11-29T09:19:23.615936Z",
     "shell.execute_reply": "2024-11-29T09:19:23.614691Z"
    },
    "papermill": {
     "duration": 1.486093,
     "end_time": "2024-11-29T09:19:23.618563",
     "exception": false,
     "start_time": "2024-11-29T09:19:22.132470",
     "status": "completed"
    },
    "tags": []
   },
   "outputs": [
    {
     "data": {
      "image/png": "[encoded data removed]",
      "text/plain": [
       "<Figure size 800x600 with 6 Axes>"
      ]
     },
     "metadata": {},
     "output_type": "display_data"
    }
   ],
   "source": [
    "# Plot the histograms of the features, to get a sense of the distributions of the data\n",
    "import matplotlib.pyplot as plt\n",
    "\n",
    "X_train.hist(bins = 50, figsize = (8, 6))\n",
    "plt.show()"
   ]
  },
  {
   "cell_type": "markdown",
   "id": "a4c34536",
   "metadata": {
    "papermill": {
     "duration": 0.007329,
     "end_time": "2024-11-29T09:19:23.633963",
     "exception": false,
     "start_time": "2024-11-29T09:19:23.626634",
     "status": "completed"
    },
    "tags": []
   },
   "source": [
    "Seems that some of the features are not uniform nor Gaussian (e.g. \"Data Usage (MB/day)\" seems to be more heavy-tailed), which is preferred by our models. We will perform a log transform on the feature to handle this. Plotting below some log-transformed features, to get a sense of what the data would look like."
   ]
  },
  {
   "cell_type": "code",
   "execution_count": 10,
   "id": "470788c8",
   "metadata": {
    "execution": {
     "iopub.execute_input": "2024-11-29T09:19:23.650600Z",
     "iopub.status.busy": "2024-11-29T09:19:23.650214Z",
     "iopub.status.idle": "2024-11-29T09:19:23.918668Z",
     "shell.execute_reply": "2024-11-29T09:19:23.917367Z"
    },
    "papermill": {
     "duration": 0.279847,
     "end_time": "2024-11-29T09:19:23.921311",
     "exception": false,
     "start_time": "2024-11-29T09:19:23.641464",
     "status": "completed"
    },
    "tags": []
   },
   "outputs": [
    {
     "data": {
      "text/plain": [
       "<Axes: ylabel='Frequency'>"
      ]
     },
     "execution_count": 10,
     "metadata": {},
     "output_type": "execute_result"
    },
    {
     "data": {
      "image/png": "[encoded data removed]",
      "text/plain": [
       "<Figure size 640x480 with 1 Axes>"
      ]
     },
     "metadata": {},
     "output_type": "display_data"
    }
   ],
   "source": [
    "np.log(X_train[\"App Usage Time (min/day)\"]).plot.hist()"
   ]
  },
  {
   "cell_type": "code",
   "execution_count": 11,
   "id": "1115c695",
   "metadata": {
    "execution": {
     "iopub.execute_input": "2024-11-29T09:19:23.938347Z",
     "iopub.status.busy": "2024-11-29T09:19:23.937974Z",
     "iopub.status.idle": "2024-11-29T09:19:24.210136Z",
     "shell.execute_reply": "2024-11-29T09:19:24.208745Z"
    },
    "papermill": {
     "duration": 0.283807,
     "end_time": "2024-11-29T09:19:24.213021",
     "exception": false,
     "start_time": "2024-11-29T09:19:23.929214",
     "status": "completed"
    },
    "tags": []
   },
   "outputs": [
    {
     "data": {
      "text/plain": [
       "<Axes: ylabel='Frequency'>"
      ]
     },
     "execution_count": 11,
     "metadata": {},
     "output_type": "execute_result"
    },
    {
     "data": {
      "image/png": "[encoded data removed]",
      "text/plain": [
       "<Figure size 640x480 with 1 Axes>"
      ]
     },
     "metadata": {},
     "output_type": "display_data"
    }
   ],
   "source": [
    "np.log(X_train[\"Screen On Time (hours/day)\"]).plot.hist()"
   ]
  },
  {
   "cell_type": "code",
   "execution_count": 12,
   "id": "938ac884",
   "metadata": {
    "execution": {
     "iopub.execute_input": "2024-11-29T09:19:24.231774Z",
     "iopub.status.busy": "2024-11-29T09:19:24.231328Z",
     "iopub.status.idle": "2024-11-29T09:19:24.460014Z",
     "shell.execute_reply": "2024-11-29T09:19:24.458683Z"
    },
    "papermill": {
     "duration": 0.241398,
     "end_time": "2024-11-29T09:19:24.462680",
     "exception": false,
     "start_time": "2024-11-29T09:19:24.221282",
     "status": "completed"
    },
    "tags": []
   },
   "outputs": [
    {
     "data": {
      "text/plain": [
       "<Axes: ylabel='Frequency'>"
      ]
     },
     "execution_count": 12,
     "metadata": {},
     "output_type": "execute_result"
    },
    {
     "data": {
      "image/png": "[encoded data removed]",
      "text/plain": [
       "<Figure size 640x480 with 1 Axes>"
      ]
     },
     "metadata": {},
     "output_type": "display_data"
    }
   ],
   "source": [
    "np.log(X_train[\"Data Usage (MB/day)\"]).plot.hist()"
   ]
  },
  {
   "cell_type": "code",
   "execution_count": 13,
   "id": "96522600",
   "metadata": {
    "execution": {
     "iopub.execute_input": "2024-11-29T09:19:24.485503Z",
     "iopub.status.busy": "2024-11-29T09:19:24.485036Z",
     "iopub.status.idle": "2024-11-29T09:19:24.492832Z",
     "shell.execute_reply": "2024-11-29T09:19:24.491589Z"
    },
    "papermill": {
     "duration": 0.020854,
     "end_time": "2024-11-29T09:19:24.495105",
     "exception": false,
     "start_time": "2024-11-29T09:19:24.474251",
     "status": "completed"
    },
    "tags": []
   },
   "outputs": [],
   "source": [
    "# Identifying the integer, float, and categorical column names.\n",
    "X_train_int_col = X_train.select_dtypes(include = ['int']).columns\n",
    "X_train_float_col = X_train.select_dtypes(include = ['float']).columns\n",
    "X_train_cat_col = X_train.select_dtypes(include = ['object']).columns"
   ]
  },
  {
   "cell_type": "code",
   "execution_count": 14,
   "id": "e99997aa",
   "metadata": {
    "execution": {
     "iopub.execute_input": "2024-11-29T09:19:24.513658Z",
     "iopub.status.busy": "2024-11-29T09:19:24.513178Z",
     "iopub.status.idle": "2024-11-29T09:19:24.526427Z",
     "shell.execute_reply": "2024-11-29T09:19:24.525375Z"
    },
    "papermill": {
     "duration": 0.025352,
     "end_time": "2024-11-29T09:19:24.528788",
     "exception": false,
     "start_time": "2024-11-29T09:19:24.503436",
     "status": "completed"
    },
    "tags": []
   },
   "outputs": [
    {
     "data": {
      "text/plain": [
       "Device Model        Operating System  Gender\n",
       "Samsung Galaxy S21  Android           Male      55\n",
       "Xiaomi Mi 11        Android           Female    55\n",
       "iPhone 12           iOS               Female    52\n",
       "Google Pixel 5      Android           Male      51\n",
       "OnePlus 9           Android           Male      50\n",
       "iPhone 12           iOS               Male      50\n",
       "Google Pixel 5      Android           Female    48\n",
       "Xiaomi Mi 11        Android           Male      48\n",
       "OnePlus 9           Android           Female    43\n",
       "Samsung Galaxy S21  Android           Female    38\n",
       "Name: count, dtype: int64"
      ]
     },
     "execution_count": 14,
     "metadata": {},
     "output_type": "execute_result"
    }
   ],
   "source": [
    "X_train[X_train_cat_col].value_counts()"
   ]
  },
  {
   "cell_type": "markdown",
   "id": "64e9d7e2",
   "metadata": {
    "papermill": {
     "duration": 0.008566,
     "end_time": "2024-11-29T09:19:24.545957",
     "exception": false,
     "start_time": "2024-11-29T09:19:24.537391",
     "status": "completed"
    },
    "tags": []
   },
   "source": [
    "# 2. Preprocessing Pipelines"
   ]
  },
  {
   "cell_type": "markdown",
   "id": "93edec5f",
   "metadata": {
    "papermill": {
     "duration": 0.008608,
     "end_time": "2024-11-29T09:19:24.563087",
     "exception": false,
     "start_time": "2024-11-29T09:19:24.554479",
     "status": "completed"
    },
    "tags": []
   },
   "source": [
    "We will perform:\n",
    "1. Ordinal and OneHot Encoding for categorical features,\n",
    "2. Standardize integer and float features, and\n",
    "3. Apply a log transform on certain features that are skewed/heavy-tailed."
   ]
  },
  {
   "cell_type": "code",
   "execution_count": 15,
   "id": "4ae4c087",
   "metadata": {
    "execution": {
     "iopub.execute_input": "2024-11-29T09:19:24.582777Z",
     "iopub.status.busy": "2024-11-29T09:19:24.582286Z",
     "iopub.status.idle": "2024-11-29T09:19:24.588828Z",
     "shell.execute_reply": "2024-11-29T09:19:24.587627Z"
    },
    "papermill": {
     "duration": 0.019178,
     "end_time": "2024-11-29T09:19:24.591059",
     "exception": false,
     "start_time": "2024-11-29T09:19:24.571881",
     "status": "completed"
    },
    "tags": []
   },
   "outputs": [],
   "source": [
    "from sklearn.preprocessing import OrdinalEncoder, OneHotEncoder, StandardScaler, FunctionTransformer\n",
    "\n",
    "ordinal_encoder = OrdinalEncoder()\n",
    "oh_encoder = OneHotEncoder()\n",
    "std_scaler = StandardScaler()\n",
    "log_transformer = FunctionTransformer(np.log, inverse_func = np.exp)"
   ]
  },
  {
   "cell_type": "code",
   "execution_count": 16,
   "id": "298dce3d",
   "metadata": {
    "execution": {
     "iopub.execute_input": "2024-11-29T09:19:24.610838Z",
     "iopub.status.busy": "2024-11-29T09:19:24.610390Z",
     "iopub.status.idle": "2024-11-29T09:19:24.625944Z",
     "shell.execute_reply": "2024-11-29T09:19:24.624719Z"
    },
    "papermill": {
     "duration": 0.028364,
     "end_time": "2024-11-29T09:19:24.628671",
     "exception": false,
     "start_time": "2024-11-29T09:19:24.600307",
     "status": "completed"
    },
    "tags": []
   },
   "outputs": [],
   "source": [
    "# Create several pipelines, and bundle them together via a ColumnTransformer preprocessor\n",
    "from sklearn.pipeline import make_pipeline\n",
    "from sklearn.compose import ColumnTransformer\n",
    "\n",
    "\n",
    "log_pipeline = make_pipeline(\n",
    "    log_transformer,\n",
    "    std_scaler)\n",
    "\n",
    "cat_pipeline = make_pipeline(\n",
    "    ordinal_encoder,\n",
    "    oh_encoder)\n",
    "\n",
    "preprocessing = ColumnTransformer([\n",
    "    (\"int\", std_scaler, [\"App Usage Time (min/day)\", \"Battery Drain (mAh/day)\", \"Number of Apps Installed\", \"Age\"]),\n",
    "    (\"log\", log_pipeline, [\"Screen On Time (hours/day)\", \"Data Usage (MB/day)\"]),\n",
    "    (\"cat\", cat_pipeline, X_train_cat_col),\n",
    "])"
   ]
  },
  {
   "cell_type": "markdown",
   "id": "f28e39c0",
   "metadata": {
    "papermill": {
     "duration": 0.008327,
     "end_time": "2024-11-29T09:19:24.645802",
     "exception": false,
     "start_time": "2024-11-29T09:19:24.637475",
     "status": "completed"
    },
    "tags": []
   },
   "source": [
    "# 3. Model Selection and Training\n",
    "In this notebook, we will use the Random Forest Classifier algo to fit the data. Parameters for the RF classifiers are arbitrarily selected. We'll see if fine-tuning is required."
   ]
  },
  {
   "cell_type": "code",
   "execution_count": 17,
   "id": "6cbb65ca",
   "metadata": {
    "execution": {
     "iopub.execute_input": "2024-11-29T09:19:24.664853Z",
     "iopub.status.busy": "2024-11-29T09:19:24.664464Z",
     "iopub.status.idle": "2024-11-29T09:19:25.307122Z",
     "shell.execute_reply": "2024-11-29T09:19:25.305866Z"
    },
    "papermill": {
     "duration": 0.655355,
     "end_time": "2024-11-29T09:19:25.309634",
     "exception": false,
     "start_time": "2024-11-29T09:19:24.654279",
     "status": "completed"
    },
    "tags": []
   },
   "outputs": [
    {
     "data": {
      "text/html": [
       "<style>#sk-container-id-1 {color: black;background-color: white;}#sk-container-id-1 pre{padding: 0;}#sk-container-id-1 div.sk-toggleable {background-color: white;}#sk-container-id-1 label.sk-toggleable__label {cursor: pointer;display: block;width: 100%;margin-bottom: 0;padding: 0.3em;box-sizing: border-box;text-align: center;}#sk-container-id-1 label.sk-toggleable__label-arrow:before {content: \"▸\";float: left;margin-right: 0.25em;color: #696969;}#sk-container-id-1 label.sk-toggleable__label-arrow:hover:before {color: black;}#sk-container-id-1 div.sk-estimator:hover label.sk-toggleable__label-arrow:before {color: black;}#sk-container-id-1 div.sk-toggleable__content {max-height: 0;max-width: 0;overflow: hidden;text-align: left;background-color: #f0f8ff;}#sk-container-id-1 div.sk-toggleable__content pre {margin: 0.2em;color: black;border-radius: 0.25em;background-color: #f0f8ff;}#sk-container-id-1 input.sk-toggleable__control:checked~div.sk-toggleable__content {max-height: 200px;max-width: 100%;overflow: auto;}#sk-container-id-1 input.sk-toggleable__control:checked~label.sk-toggleable__label-arrow:before {content: \"▾\";}#sk-container-id-1 div.sk-estimator input.sk-toggleable__control:checked~label.sk-toggleable__label {background-color: #d4ebff;}#sk-container-id-1 div.sk-label input.sk-toggleable__control:checked~label.sk-toggleable__label {background-color: #d4ebff;}#sk-container-id-1 input.sk-hidden--visually {border: 0;clip: rect(1px 1px 1px 1px);clip: rect(1px, 1px, 1px, 1px);height: 1px;margin: -1px;overflow: hidden;padding: 0;position: absolute;width: 1px;}#sk-container-id-1 div.sk-estimator {font-family: monospace;background-color: #f0f8ff;border: 1px dotted black;border-radius: 0.25em;box-sizing: border-box;margin-bottom: 0.5em;}#sk-container-id-1 div.sk-estimator:hover {background-color: #d4ebff;}#sk-container-id-1 div.sk-parallel-item::after {content: \"\";width: 100%;border-bottom: 1px solid gray;flex-grow: 1;}#sk-container-id-1 div.sk-label:hover label.sk-toggleable__label {background-color: #d4ebff;}#sk-container-id-1 div.sk-serial::before {content: \"\";position: absolute;border-left: 1px solid gray;box-sizing: border-box;top: 0;bottom: 0;left: 50%;z-index: 0;}#sk-container-id-1 div.sk-serial {display: flex;flex-direction: column;align-items: center;background-color: white;padding-right: 0.2em;padding-left: 0.2em;position: relative;}#sk-container-id-1 div.sk-item {position: relative;z-index: 1;}#sk-container-id-1 div.sk-parallel {display: flex;align-items: stretch;justify-content: center;background-color: white;position: relative;}#sk-container-id-1 div.sk-item::before, #sk-container-id-1 div.sk-parallel-item::before {content: \"\";position: absolute;border-left: 1px solid gray;box-sizing: border-box;top: 0;bottom: 0;left: 50%;z-index: -1;}#sk-container-id-1 div.sk-parallel-item {display: flex;flex-direction: column;z-index: 1;position: relative;background-color: white;}#sk-container-id-1 div.sk-parallel-item:first-child::after {align-self: flex-end;width: 50%;}#sk-container-id-1 div.sk-parallel-item:last-child::after {align-self: flex-start;width: 50%;}#sk-container-id-1 div.sk-parallel-item:only-child::after {width: 0;}#sk-container-id-1 div.sk-dashed-wrapped {border: 1px dashed gray;margin: 0 0.4em 0.5em 0.4em;box-sizing: border-box;padding-bottom: 0.4em;background-color: white;}#sk-container-id-1 div.sk-label label {font-family: monospace;font-weight: bold;display: inline-block;line-height: 1.2em;}#sk-container-id-1 div.sk-label-container {text-align: center;}#sk-container-id-1 div.sk-container {/* jupyter's `normalize.less` sets `[hidden] { display: none; }` but bootstrap.min.css set `[hidden] { display: none !important; }` so we also need the `!important` here to be able to override the default hidden behavior on the sphinx rendered scikit-learn.org. See: https://github.com/scikit-learn/scikit-learn/issues/21755 */display: inline-block !important;position: relative;}#sk-container-id-1 div.sk-text-repr-fallback {display: none;}</style><div id=\"sk-container-id-1\" class=\"sk-top-container\"><div class=\"sk-text-repr-fallback\"><pre>Pipeline(steps=[(&#x27;columntransformer&#x27;,\n",
       "                 ColumnTransformer(transformers=[(&#x27;int&#x27;, StandardScaler(),\n",
       "                                                  [&#x27;App Usage Time (min/day)&#x27;,\n",
       "                                                   &#x27;Battery Drain (mAh/day)&#x27;,\n",
       "                                                   &#x27;Number of Apps Installed&#x27;,\n",
       "                                                   &#x27;Age&#x27;]),\n",
       "                                                 (&#x27;log&#x27;,\n",
       "                                                  Pipeline(steps=[(&#x27;functiontransformer&#x27;,\n",
       "                                                                   FunctionTransformer(func=&lt;ufunc &#x27;log&#x27;&gt;,\n",
       "                                                                                       inverse_func=&lt;ufunc &#x27;exp&#x27;&gt;)),\n",
       "                                                                  (&#x27;standardscaler&#x27;,\n",
       "                                                                   StandardScaler())]),\n",
       "                                                  [&#x27;Screen On Time (hours/day)&#x27;,\n",
       "                                                   &#x27;Data Usage (MB/day)&#x27;]),\n",
       "                                                 (&#x27;cat&#x27;,\n",
       "                                                  Pipeline(steps=[(&#x27;ordinalencoder&#x27;,\n",
       "                                                                   OrdinalEncoder()),\n",
       "                                                                  (&#x27;onehotencoder&#x27;,\n",
       "                                                                   OneHotEncoder())]),\n",
       "                                                  Index([&#x27;Device Model&#x27;, &#x27;Operating System&#x27;, &#x27;Gender&#x27;], dtype=&#x27;object&#x27;))])),\n",
       "                (&#x27;randomforestclassifier&#x27;,\n",
       "                 RandomForestClassifier(max_leaf_nodes=4, n_estimators=50,\n",
       "                                        n_jobs=-1))])</pre><b>In a Jupyter environment, please rerun this cell to show the HTML representation or trust the notebook. <br />On GitHub, the HTML representation is unable to render, please try loading this page with nbviewer.org.</b></div><div class=\"sk-container\" hidden><div class=\"sk-item sk-dashed-wrapped\"><div class=\"sk-label-container\"><div class=\"sk-label sk-toggleable\"><input class=\"sk-toggleable__control sk-hidden--visually\" id=\"sk-estimator-id-1\" type=\"checkbox\" ><label for=\"sk-estimator-id-1\" class=\"sk-toggleable__label sk-toggleable__label-arrow\">Pipeline</label><div class=\"sk-toggleable__content\"><pre>Pipeline(steps=[(&#x27;columntransformer&#x27;,\n",
       "                 ColumnTransformer(transformers=[(&#x27;int&#x27;, StandardScaler(),\n",
       "                                                  [&#x27;App Usage Time (min/day)&#x27;,\n",
       "                                                   &#x27;Battery Drain (mAh/day)&#x27;,\n",
       "                                                   &#x27;Number of Apps Installed&#x27;,\n",
       "                                                   &#x27;Age&#x27;]),\n",
       "                                                 (&#x27;log&#x27;,\n",
       "                                                  Pipeline(steps=[(&#x27;functiontransformer&#x27;,\n",
       "                                                                   FunctionTransformer(func=&lt;ufunc &#x27;log&#x27;&gt;,\n",
       "                                                                                       inverse_func=&lt;ufunc &#x27;exp&#x27;&gt;)),\n",
       "                                                                  (&#x27;standardscaler&#x27;,\n",
       "                                                                   StandardScaler())]),\n",
       "                                                  [&#x27;Screen On Time (hours/day)&#x27;,\n",
       "                                                   &#x27;Data Usage (MB/day)&#x27;]),\n",
       "                                                 (&#x27;cat&#x27;,\n",
       "                                                  Pipeline(steps=[(&#x27;ordinalencoder&#x27;,\n",
       "                                                                   OrdinalEncoder()),\n",
       "                                                                  (&#x27;onehotencoder&#x27;,\n",
       "                                                                   OneHotEncoder())]),\n",
       "                                                  Index([&#x27;Device Model&#x27;, &#x27;Operating System&#x27;, &#x27;Gender&#x27;], dtype=&#x27;object&#x27;))])),\n",
       "                (&#x27;randomforestclassifier&#x27;,\n",
       "                 RandomForestClassifier(max_leaf_nodes=4, n_estimators=50,\n",
       "                                        n_jobs=-1))])</pre></div></div></div><div class=\"sk-serial\"><div class=\"sk-item sk-dashed-wrapped\"><div class=\"sk-label-container\"><div class=\"sk-label sk-toggleable\"><input class=\"sk-toggleable__control sk-hidden--visually\" id=\"sk-estimator-id-2\" type=\"checkbox\" ><label for=\"sk-estimator-id-2\" class=\"sk-toggleable__label sk-toggleable__label-arrow\">columntransformer: ColumnTransformer</label><div class=\"sk-toggleable__content\"><pre>ColumnTransformer(transformers=[(&#x27;int&#x27;, StandardScaler(),\n",
       "                                 [&#x27;App Usage Time (min/day)&#x27;,\n",
       "                                  &#x27;Battery Drain (mAh/day)&#x27;,\n",
       "                                  &#x27;Number of Apps Installed&#x27;, &#x27;Age&#x27;]),\n",
       "                                (&#x27;log&#x27;,\n",
       "                                 Pipeline(steps=[(&#x27;functiontransformer&#x27;,\n",
       "                                                  FunctionTransformer(func=&lt;ufunc &#x27;log&#x27;&gt;,\n",
       "                                                                      inverse_func=&lt;ufunc &#x27;exp&#x27;&gt;)),\n",
       "                                                 (&#x27;standardscaler&#x27;,\n",
       "                                                  StandardScaler())]),\n",
       "                                 [&#x27;Screen On Time (hours/day)&#x27;,\n",
       "                                  &#x27;Data Usage (MB/day)&#x27;]),\n",
       "                                (&#x27;cat&#x27;,\n",
       "                                 Pipeline(steps=[(&#x27;ordinalencoder&#x27;,\n",
       "                                                  OrdinalEncoder()),\n",
       "                                                 (&#x27;onehotencoder&#x27;,\n",
       "                                                  OneHotEncoder())]),\n",
       "                                 Index([&#x27;Device Model&#x27;, &#x27;Operating System&#x27;, &#x27;Gender&#x27;], dtype=&#x27;object&#x27;))])</pre></div></div></div><div class=\"sk-parallel\"><div class=\"sk-parallel-item\"><div class=\"sk-item\"><div class=\"sk-label-container\"><div class=\"sk-label sk-toggleable\"><input class=\"sk-toggleable__control sk-hidden--visually\" id=\"sk-estimator-id-3\" type=\"checkbox\" ><label for=\"sk-estimator-id-3\" class=\"sk-toggleable__label sk-toggleable__label-arrow\">int</label><div class=\"sk-toggleable__content\"><pre>[&#x27;App Usage Time (min/day)&#x27;, &#x27;Battery Drain (mAh/day)&#x27;, &#x27;Number of Apps Installed&#x27;, &#x27;Age&#x27;]</pre></div></div></div><div class=\"sk-serial\"><div class=\"sk-item\"><div class=\"sk-estimator sk-toggleable\"><input class=\"sk-toggleable__control sk-hidden--visually\" id=\"sk-estimator-id-4\" type=\"checkbox\" ><label for=\"sk-estimator-id-4\" class=\"sk-toggleable__label sk-toggleable__label-arrow\">StandardScaler</label><div class=\"sk-toggleable__content\"><pre>StandardScaler()</pre></div></div></div></div></div></div><div class=\"sk-parallel-item\"><div class=\"sk-item\"><div class=\"sk-label-container\"><div class=\"sk-label sk-toggleable\"><input class=\"sk-toggleable__control sk-hidden--visually\" id=\"sk-estimator-id-5\" type=\"checkbox\" ><label for=\"sk-estimator-id-5\" class=\"sk-toggleable__label sk-toggleable__label-arrow\">log</label><div class=\"sk-toggleable__content\"><pre>[&#x27;Screen On Time (hours/day)&#x27;, &#x27;Data Usage (MB/day)&#x27;]</pre></div></div></div><div class=\"sk-serial\"><div class=\"sk-item\"><div class=\"sk-serial\"><div class=\"sk-item\"><div class=\"sk-estimator sk-toggleable\"><input class=\"sk-toggleable__control sk-hidden--visually\" id=\"sk-estimator-id-6\" type=\"checkbox\" ><label for=\"sk-estimator-id-6\" class=\"sk-toggleable__label sk-toggleable__label-arrow\">FunctionTransformer</label><div class=\"sk-toggleable__content\"><pre>FunctionTransformer(func=&lt;ufunc &#x27;log&#x27;&gt;, inverse_func=&lt;ufunc &#x27;exp&#x27;&gt;)</pre></div></div></div><div class=\"sk-item\"><div class=\"sk-estimator sk-toggleable\"><input class=\"sk-toggleable__control sk-hidden--visually\" id=\"sk-estimator-id-7\" type=\"checkbox\" ><label for=\"sk-estimator-id-7\" class=\"sk-toggleable__label sk-toggleable__label-arrow\">StandardScaler</label><div class=\"sk-toggleable__content\"><pre>StandardScaler()</pre></div></div></div></div></div></div></div></div><div class=\"sk-parallel-item\"><div class=\"sk-item\"><div class=\"sk-label-container\"><div class=\"sk-label sk-toggleable\"><input class=\"sk-toggleable__control sk-hidden--visually\" id=\"sk-estimator-id-8\" type=\"checkbox\" ><label for=\"sk-estimator-id-8\" class=\"sk-toggleable__label sk-toggleable__label-arrow\">cat</label><div class=\"sk-toggleable__content\"><pre>Index([&#x27;Device Model&#x27;, &#x27;Operating System&#x27;, &#x27;Gender&#x27;], dtype=&#x27;object&#x27;)</pre></div></div></div><div class=\"sk-serial\"><div class=\"sk-item\"><div class=\"sk-serial\"><div class=\"sk-item\"><div class=\"sk-estimator sk-toggleable\"><input class=\"sk-toggleable__control sk-hidden--visually\" id=\"sk-estimator-id-9\" type=\"checkbox\" ><label for=\"sk-estimator-id-9\" class=\"sk-toggleable__label sk-toggleable__label-arrow\">OrdinalEncoder</label><div class=\"sk-toggleable__content\"><pre>OrdinalEncoder()</pre></div></div></div><div class=\"sk-item\"><div class=\"sk-estimator sk-toggleable\"><input class=\"sk-toggleable__control sk-hidden--visually\" id=\"sk-estimator-id-10\" type=\"checkbox\" ><label for=\"sk-estimator-id-10\" class=\"sk-toggleable__label sk-toggleable__label-arrow\">OneHotEncoder</label><div class=\"sk-toggleable__content\"><pre>OneHotEncoder()</pre></div></div></div></div></div></div></div></div></div></div><div class=\"sk-item\"><div class=\"sk-estimator sk-toggleable\"><input class=\"sk-toggleable__control sk-hidden--visually\" id=\"sk-estimator-id-11\" type=\"checkbox\" ><label for=\"sk-estimator-id-11\" class=\"sk-toggleable__label sk-toggleable__label-arrow\">RandomForestClassifier</label><div class=\"sk-toggleable__content\"><pre>RandomForestClassifier(max_leaf_nodes=4, n_estimators=50, n_jobs=-1)</pre></div></div></div></div></div></div></div>"
      ],
      "text/plain": [
       "Pipeline(steps=[('columntransformer',\n",
       "                 ColumnTransformer(transformers=[('int', StandardScaler(),\n",
       "                                                  ['App Usage Time (min/day)',\n",
       "                                                   'Battery Drain (mAh/day)',\n",
       "                                                   'Number of Apps Installed',\n",
       "                                                   'Age']),\n",
       "                                                 ('log',\n",
       "                                                  Pipeline(steps=[('functiontransformer',\n",
       "                                                                   FunctionTransformer(func=<ufunc 'log'>,\n",
       "                                                                                       inverse_func=<ufunc 'exp'>)),\n",
       "                                                                  ('standardscaler',\n",
       "                                                                   StandardScaler())]),\n",
       "                                                  ['Screen On Time (hours/day)',\n",
       "                                                   'Data Usage (MB/day)']),\n",
       "                                                 ('cat',\n",
       "                                                  Pipeline(steps=[('ordinalencoder',\n",
       "                                                                   OrdinalEncoder()),\n",
       "                                                                  ('onehotencoder',\n",
       "                                                                   OneHotEncoder())]),\n",
       "                                                  Index(['Device Model', 'Operating System', 'Gender'], dtype='object'))])),\n",
       "                ('randomforestclassifier',\n",
       "                 RandomForestClassifier(max_leaf_nodes=4, n_estimators=50,\n",
       "                                        n_jobs=-1))])"
      ]
     },
     "execution_count": 17,
     "metadata": {},
     "output_type": "execute_result"
    }
   ],
   "source": [
    "from sklearn.ensemble import RandomForestClassifier\n",
    "\n",
    "rf_clf = RandomForestClassifier(n_estimators = 50, max_leaf_nodes = 4, n_jobs = -1)\n",
    "\n",
    "rf_pipeline = make_pipeline(\n",
    "    preprocessing,\n",
    "    rf_clf\n",
    ")\n",
    "\n",
    "rf_pipeline.fit(X_train, y_train)"
   ]
  },
  {
   "cell_type": "code",
   "execution_count": 18,
   "id": "a4151075",
   "metadata": {
    "execution": {
     "iopub.execute_input": "2024-11-29T09:19:25.329586Z",
     "iopub.status.busy": "2024-11-29T09:19:25.329020Z",
     "iopub.status.idle": "2024-11-29T09:19:25.383550Z",
     "shell.execute_reply": "2024-11-29T09:19:25.382402Z"
    },
    "papermill": {
     "duration": 0.067439,
     "end_time": "2024-11-29T09:19:25.386097",
     "exception": false,
     "start_time": "2024-11-29T09:19:25.318658",
     "status": "completed"
    },
    "tags": []
   },
   "outputs": [],
   "source": [
    "y_test_pred_rf = rf_pipeline.predict(X_test)"
   ]
  },
  {
   "cell_type": "markdown",
   "id": "2da88217",
   "metadata": {
    "papermill": {
     "duration": 0.008385,
     "end_time": "2024-11-29T09:19:25.403440",
     "exception": false,
     "start_time": "2024-11-29T09:19:25.395055",
     "status": "completed"
    },
    "tags": []
   },
   "source": [
    "# 4. Evaluating Model Performance"
   ]
  },
  {
   "cell_type": "code",
   "execution_count": 19,
   "id": "00067503",
   "metadata": {
    "execution": {
     "iopub.execute_input": "2024-11-29T09:19:25.423148Z",
     "iopub.status.busy": "2024-11-29T09:19:25.422740Z",
     "iopub.status.idle": "2024-11-29T09:19:25.433377Z",
     "shell.execute_reply": "2024-11-29T09:19:25.432029Z"
    },
    "papermill": {
     "duration": 0.023512,
     "end_time": "2024-11-29T09:19:25.435952",
     "exception": false,
     "start_time": "2024-11-29T09:19:25.412440",
     "status": "completed"
    },
    "tags": []
   },
   "outputs": [
    {
     "data": {
      "text/plain": [
       "array([[41,  0,  0,  0,  0],\n",
       "       [ 0, 39,  0,  0,  0],\n",
       "       [ 0,  0, 45,  0,  0],\n",
       "       [ 0,  0,  0, 39,  0],\n",
       "       [ 0,  0,  0,  0, 46]])"
      ]
     },
     "execution_count": 19,
     "metadata": {},
     "output_type": "execute_result"
    }
   ],
   "source": [
    "from sklearn.metrics import confusion_matrix\n",
    "\n",
    "cm = confusion_matrix(y_test, y_test_pred_rf)\n",
    "cm"
   ]
  },
  {
   "cell_type": "code",
   "execution_count": 20,
   "id": "58a568bd",
   "metadata": {
    "execution": {
     "iopub.execute_input": "2024-11-29T09:19:25.456725Z",
     "iopub.status.busy": "2024-11-29T09:19:25.456274Z",
     "iopub.status.idle": "2024-11-29T09:19:25.472821Z",
     "shell.execute_reply": "2024-11-29T09:19:25.471589Z"
    },
    "papermill": {
     "duration": 0.02997,
     "end_time": "2024-11-29T09:19:25.475309",
     "exception": false,
     "start_time": "2024-11-29T09:19:25.445339",
     "status": "completed"
    },
    "tags": []
   },
   "outputs": [
    {
     "name": "stdout",
     "output_type": "stream",
     "text": [
      "Precision: 1.0\n",
      "Recall: 1.0\n",
      "F1 score: 1.0\n"
     ]
    }
   ],
   "source": [
    "# Precision, Recall, F1 scores\n",
    "from sklearn.metrics import precision_score, recall_score, f1_score\n",
    "\n",
    "print(\"Precision: \" + precision_score(y_test, y_test_pred_rf, average = 'micro').astype(str))\n",
    "print(\"Recall: \" + recall_score(y_test, y_test_pred_rf, average = 'micro').astype(str))\n",
    "print(\"F1 score: \" + f1_score(y_test, y_test_pred_rf, average = 'micro').astype(str))"
   ]
  },
  {
   "cell_type": "code",
   "execution_count": 21,
   "id": "43fc3b11",
   "metadata": {
    "execution": {
     "iopub.execute_input": "2024-11-29T09:19:25.495918Z",
     "iopub.status.busy": "2024-11-29T09:19:25.495424Z",
     "iopub.status.idle": "2024-11-29T09:19:26.153510Z",
     "shell.execute_reply": "2024-11-29T09:19:26.152323Z"
    },
    "papermill": {
     "duration": 0.671752,
     "end_time": "2024-11-29T09:19:26.156488",
     "exception": false,
     "start_time": "2024-11-29T09:19:25.484736",
     "status": "completed"
    },
    "tags": []
   },
   "outputs": [
    {
     "data": {
      "text/plain": [
       "array([1., 1., 1.])"
      ]
     },
     "execution_count": 21,
     "metadata": {},
     "output_type": "execute_result"
    }
   ],
   "source": [
    "# Cross Validation\n",
    "from sklearn.model_selection import cross_val_score\n",
    "\n",
    "cross_val_score(rf_pipeline, X_train, y_train, cv = 3, scoring = \"accuracy\")"
   ]
  },
  {
   "cell_type": "code",
   "execution_count": 22,
   "id": "b1893da2",
   "metadata": {
    "execution": {
     "iopub.execute_input": "2024-11-29T09:19:26.177143Z",
     "iopub.status.busy": "2024-11-29T09:19:26.176770Z",
     "iopub.status.idle": "2024-11-29T09:19:26.852379Z",
     "shell.execute_reply": "2024-11-29T09:19:26.851060Z"
    },
    "papermill": {
     "duration": 0.689105,
     "end_time": "2024-11-29T09:19:26.855185",
     "exception": false,
     "start_time": "2024-11-29T09:19:26.166080",
     "status": "completed"
    },
    "tags": []
   },
   "outputs": [
    {
     "data": {
      "text/plain": [
       "1.0"
      ]
     },
     "execution_count": 22,
     "metadata": {},
     "output_type": "execute_result"
    }
   ],
   "source": [
    "from sklearn.model_selection import cross_val_predict\n",
    "from sklearn.metrics import precision_recall_curve, roc_auc_score\n",
    "\n",
    "y_probas_rf = cross_val_predict(rf_pipeline, X_train, y_train, cv = 3, method = \"predict_proba\")\n",
    "y_scores_rf = y_probas_rf[:, 1]\n",
    "roc_auc_score(y_train, y_probas_rf, average = 'macro', multi_class = 'ovo', labels = [1, 2, 3, 4, 5])"
   ]
  },
  {
   "cell_type": "code",
   "execution_count": 23,
   "id": "ac6d2c4e",
   "metadata": {
    "execution": {
     "iopub.execute_input": "2024-11-29T09:19:26.876329Z",
     "iopub.status.busy": "2024-11-29T09:19:26.875865Z",
     "iopub.status.idle": "2024-11-29T09:19:26.900104Z",
     "shell.execute_reply": "2024-11-29T09:19:26.898739Z"
    },
    "papermill": {
     "duration": 0.038853,
     "end_time": "2024-11-29T09:19:26.903627",
     "exception": false,
     "start_time": "2024-11-29T09:19:26.864774",
     "status": "completed"
    },
    "tags": []
   },
   "outputs": [
    {
     "name": "stdout",
     "output_type": "stream",
     "text": [
      "0.22 Device Model\n",
      "0.17 Operating System\n",
      "0.21 App Usage Time (min/day)\n",
      "0.01 Screen On Time (hours/day)\n",
      "0.16 Battery Drain (mAh/day)\n",
      "0.22 Number of Apps Installed\n",
      "0.0 Data Usage (MB/day)\n",
      "0.0 Age\n",
      "0.0 Gender\n"
     ]
    }
   ],
   "source": [
    "# Print feature importance, to see which are the most important features in identifying the User Behavior Class\n",
    "for score, name in zip(rf_clf.feature_importances_, X_train.columns):\n",
    "    print(round(score, 2), name)"
   ]
  },
  {
   "cell_type": "markdown",
   "id": "b9c3246a",
   "metadata": {
    "papermill": {
     "duration": 0.009595,
     "end_time": "2024-11-29T09:19:26.923075",
     "exception": false,
     "start_time": "2024-11-29T09:19:26.913480",
     "status": "completed"
    },
    "tags": []
   },
   "source": [
    "**Conclusion**: It seems that RF is really effective in this case, even by just using 70% of the original data for training."
   ]
  }
 ],
 "metadata": {
  "kaggle": {
   "accelerator": "none",
   "dataSources": [
    {
     "datasetId": 5784553,
     "sourceId": 9504237,
     "sourceType": "datasetVersion"
    }
   ],
   "dockerImageVersionId": 30786,
   "isGpuEnabled": false,
   "isInternetEnabled": true,
   "language": "python",
   "sourceType": "notebook"
  },
  "kernelspec": {
   "display_name": "Python 3",
   "language": "python",
   "name": "python3"
  },
  "language_info": {
   "codemirror_mode": {
    "name": "ipython",
    "version": 3
   },
   "file_extension": ".py",
   "mimetype": "text/x-python",
   "name": "python",
   "nbconvert_exporter": "python",
   "pygments_lexer": "ipython3",
   "version": "3.10.14"
  },
  "papermill": {
   "default_parameters": {},
   "duration": 11.371716,
   "end_time": "2024-11-29T09:19:27.858862",
   "environment_variables": {},
   "exception": null,
   "input_path": "__notebook__.ipynb",
   "output_path": "__notebook__.ipynb",
   "parameters": {},
   "start_time": "2024-11-29T09:19:16.487146",
   "version": "2.6.0"
  }
 },
 "nbformat": 4,
 "nbformat_minor": 5
}
