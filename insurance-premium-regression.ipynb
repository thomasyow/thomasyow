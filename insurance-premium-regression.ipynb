{
 "cells": [
  {
   "cell_type": "code",
   "execution_count": 1,
   "id": "e5e4440d",
   "metadata": {
    "_cell_guid": "b1076dfc-b9ad-4769-8c92-a6c4dae69d19",
    "_uuid": "8f2839f25d086af736a60e9eeb907d3b93b6e0e5",
    "execution": {
     "iopub.execute_input": "2024-12-09T09:36:40.498330Z",
     "iopub.status.busy": "2024-12-09T09:36:40.497886Z",
     "iopub.status.idle": "2024-12-09T09:36:41.569835Z",
     "shell.execute_reply": "2024-12-09T09:36:41.568271Z"
    },
    "papermill": {
     "duration": 1.079721,
     "end_time": "2024-12-09T09:36:41.572444",
     "exception": false,
     "start_time": "2024-12-09T09:36:40.492723",
     "status": "completed"
    },
    "tags": []
   },
   "outputs": [
    {
     "name": "stdout",
     "output_type": "stream",
     "text": [
      "/kaggle/input/playground-series-s4e12/sample_submission.csv\n",
      "/kaggle/input/playground-series-s4e12/train.csv\n",
      "/kaggle/input/playground-series-s4e12/test.csv\n"
     ]
    }
   ],
   "source": [
    "# This Python 3 environment comes with many helpful analytics libraries installed\n",
    "# It is defined by the kaggle/python Docker image: https://github.com/kaggle/docker-python\n",
    "# For example, here's several helpful packages to load\n",
    "\n",
    "import numpy as np # linear algebra\n",
    "import pandas as pd # data processing, CSV file I/O (e.g. pd.read_csv)\n",
    "\n",
    "# Input data files are available in the read-only \"../input/\" directory\n",
    "# For example, running this (by clicking run or pressing Shift+Enter) will list all files under the input directory\n",
    "\n",
    "import os\n",
    "for dirname, _, filenames in os.walk('/kaggle/input'):\n",
    "    for filename in filenames:\n",
    "        print(os.path.join(dirname, filename))\n",
    "\n",
    "# You can write up to 20GB to the current directory (/kaggle/working/) that gets preserved as output when you create a version using \"Save & Run All\" \n",
    "# You can also write temporary files to /kaggle/temp/, but they won't be saved outside of the current session"
   ]
  },
  {
   "cell_type": "code",
   "execution_count": 2,
   "id": "fcdb094c",
   "metadata": {
    "execution": {
     "iopub.execute_input": "2024-12-09T09:36:41.580914Z",
     "iopub.status.busy": "2024-12-09T09:36:41.580426Z",
     "iopub.status.idle": "2024-12-09T09:36:48.575310Z",
     "shell.execute_reply": "2024-12-09T09:36:48.574085Z"
    },
    "papermill": {
     "duration": 7.002108,
     "end_time": "2024-12-09T09:36:48.578043",
     "exception": false,
     "start_time": "2024-12-09T09:36:41.575935",
     "status": "completed"
    },
    "tags": []
   },
   "outputs": [],
   "source": [
    "input_data = pd.read_csv('/kaggle/input/playground-series-s4e12/train.csv')"
   ]
  },
  {
   "cell_type": "code",
   "execution_count": 3,
   "id": "e8d2f6a2",
   "metadata": {
    "execution": {
     "iopub.execute_input": "2024-12-09T09:36:48.586017Z",
     "iopub.status.busy": "2024-12-09T09:36:48.585623Z",
     "iopub.status.idle": "2024-12-09T09:36:48.631200Z",
     "shell.execute_reply": "2024-12-09T09:36:48.629979Z"
    },
    "papermill": {
     "duration": 0.052644,
     "end_time": "2024-12-09T09:36:48.633840",
     "exception": false,
     "start_time": "2024-12-09T09:36:48.581196",
     "status": "completed"
    },
    "tags": []
   },
   "outputs": [
    {
     "data": {
      "text/html": [
       "<div>\n",
       "<style scoped>\n",
       "    .dataframe tbody tr th:only-of-type {\n",
       "        vertical-align: middle;\n",
       "    }\n",
       "\n",
       "    .dataframe tbody tr th {\n",
       "        vertical-align: top;\n",
       "    }\n",
       "\n",
       "    .dataframe thead th {\n",
       "        text-align: right;\n",
       "    }\n",
       "</style>\n",
       "<table border=\"1\" class=\"dataframe\">\n",
       "  <thead>\n",
       "    <tr style=\"text-align: right;\">\n",
       "      <th></th>\n",
       "      <th>id</th>\n",
       "      <th>Age</th>\n",
       "      <th>Gender</th>\n",
       "      <th>Annual Income</th>\n",
       "      <th>Marital Status</th>\n",
       "      <th>Number of Dependents</th>\n",
       "      <th>Education Level</th>\n",
       "      <th>Occupation</th>\n",
       "      <th>Health Score</th>\n",
       "      <th>Location</th>\n",
       "      <th>...</th>\n",
       "      <th>Previous Claims</th>\n",
       "      <th>Vehicle Age</th>\n",
       "      <th>Credit Score</th>\n",
       "      <th>Insurance Duration</th>\n",
       "      <th>Policy Start Date</th>\n",
       "      <th>Customer Feedback</th>\n",
       "      <th>Smoking Status</th>\n",
       "      <th>Exercise Frequency</th>\n",
       "      <th>Property Type</th>\n",
       "      <th>Premium Amount</th>\n",
       "    </tr>\n",
       "  </thead>\n",
       "  <tbody>\n",
       "    <tr>\n",
       "      <th>0</th>\n",
       "      <td>0</td>\n",
       "      <td>19.0</td>\n",
       "      <td>Female</td>\n",
       "      <td>10049.0</td>\n",
       "      <td>Married</td>\n",
       "      <td>1.0</td>\n",
       "      <td>Bachelor's</td>\n",
       "      <td>Self-Employed</td>\n",
       "      <td>22.598761</td>\n",
       "      <td>Urban</td>\n",
       "      <td>...</td>\n",
       "      <td>2.0</td>\n",
       "      <td>17.0</td>\n",
       "      <td>372.0</td>\n",
       "      <td>5.0</td>\n",
       "      <td>2023-12-23 15:21:39.134960</td>\n",
       "      <td>Poor</td>\n",
       "      <td>No</td>\n",
       "      <td>Weekly</td>\n",
       "      <td>House</td>\n",
       "      <td>2869.0</td>\n",
       "    </tr>\n",
       "    <tr>\n",
       "      <th>1</th>\n",
       "      <td>1</td>\n",
       "      <td>39.0</td>\n",
       "      <td>Female</td>\n",
       "      <td>31678.0</td>\n",
       "      <td>Divorced</td>\n",
       "      <td>3.0</td>\n",
       "      <td>Master's</td>\n",
       "      <td>NaN</td>\n",
       "      <td>15.569731</td>\n",
       "      <td>Rural</td>\n",
       "      <td>...</td>\n",
       "      <td>1.0</td>\n",
       "      <td>12.0</td>\n",
       "      <td>694.0</td>\n",
       "      <td>2.0</td>\n",
       "      <td>2023-06-12 15:21:39.111551</td>\n",
       "      <td>Average</td>\n",
       "      <td>Yes</td>\n",
       "      <td>Monthly</td>\n",
       "      <td>House</td>\n",
       "      <td>1483.0</td>\n",
       "    </tr>\n",
       "    <tr>\n",
       "      <th>2</th>\n",
       "      <td>2</td>\n",
       "      <td>23.0</td>\n",
       "      <td>Male</td>\n",
       "      <td>25602.0</td>\n",
       "      <td>Divorced</td>\n",
       "      <td>3.0</td>\n",
       "      <td>High School</td>\n",
       "      <td>Self-Employed</td>\n",
       "      <td>47.177549</td>\n",
       "      <td>Suburban</td>\n",
       "      <td>...</td>\n",
       "      <td>1.0</td>\n",
       "      <td>14.0</td>\n",
       "      <td>NaN</td>\n",
       "      <td>3.0</td>\n",
       "      <td>2023-09-30 15:21:39.221386</td>\n",
       "      <td>Good</td>\n",
       "      <td>Yes</td>\n",
       "      <td>Weekly</td>\n",
       "      <td>House</td>\n",
       "      <td>567.0</td>\n",
       "    </tr>\n",
       "    <tr>\n",
       "      <th>3</th>\n",
       "      <td>3</td>\n",
       "      <td>21.0</td>\n",
       "      <td>Male</td>\n",
       "      <td>141855.0</td>\n",
       "      <td>Married</td>\n",
       "      <td>2.0</td>\n",
       "      <td>Bachelor's</td>\n",
       "      <td>NaN</td>\n",
       "      <td>10.938144</td>\n",
       "      <td>Rural</td>\n",
       "      <td>...</td>\n",
       "      <td>1.0</td>\n",
       "      <td>0.0</td>\n",
       "      <td>367.0</td>\n",
       "      <td>1.0</td>\n",
       "      <td>2024-06-12 15:21:39.226954</td>\n",
       "      <td>Poor</td>\n",
       "      <td>Yes</td>\n",
       "      <td>Daily</td>\n",
       "      <td>Apartment</td>\n",
       "      <td>765.0</td>\n",
       "    </tr>\n",
       "    <tr>\n",
       "      <th>4</th>\n",
       "      <td>4</td>\n",
       "      <td>21.0</td>\n",
       "      <td>Male</td>\n",
       "      <td>39651.0</td>\n",
       "      <td>Single</td>\n",
       "      <td>1.0</td>\n",
       "      <td>Bachelor's</td>\n",
       "      <td>Self-Employed</td>\n",
       "      <td>20.376094</td>\n",
       "      <td>Rural</td>\n",
       "      <td>...</td>\n",
       "      <td>0.0</td>\n",
       "      <td>8.0</td>\n",
       "      <td>598.0</td>\n",
       "      <td>4.0</td>\n",
       "      <td>2021-12-01 15:21:39.252145</td>\n",
       "      <td>Poor</td>\n",
       "      <td>Yes</td>\n",
       "      <td>Weekly</td>\n",
       "      <td>House</td>\n",
       "      <td>2022.0</td>\n",
       "    </tr>\n",
       "  </tbody>\n",
       "</table>\n",
       "<p>5 rows × 21 columns</p>\n",
       "</div>"
      ],
      "text/plain": [
       "   id   Age  Gender  Annual Income Marital Status  Number of Dependents  \\\n",
       "0   0  19.0  Female        10049.0        Married                   1.0   \n",
       "1   1  39.0  Female        31678.0       Divorced                   3.0   \n",
       "2   2  23.0    Male        25602.0       Divorced                   3.0   \n",
       "3   3  21.0    Male       141855.0        Married                   2.0   \n",
       "4   4  21.0    Male        39651.0         Single                   1.0   \n",
       "\n",
       "  Education Level     Occupation  Health Score  Location  ... Previous Claims  \\\n",
       "0      Bachelor's  Self-Employed     22.598761     Urban  ...             2.0   \n",
       "1        Master's            NaN     15.569731     Rural  ...             1.0   \n",
       "2     High School  Self-Employed     47.177549  Suburban  ...             1.0   \n",
       "3      Bachelor's            NaN     10.938144     Rural  ...             1.0   \n",
       "4      Bachelor's  Self-Employed     20.376094     Rural  ...             0.0   \n",
       "\n",
       "   Vehicle Age  Credit Score  Insurance Duration           Policy Start Date  \\\n",
       "0         17.0         372.0                 5.0  2023-12-23 15:21:39.134960   \n",
       "1         12.0         694.0                 2.0  2023-06-12 15:21:39.111551   \n",
       "2         14.0           NaN                 3.0  2023-09-30 15:21:39.221386   \n",
       "3          0.0         367.0                 1.0  2024-06-12 15:21:39.226954   \n",
       "4          8.0         598.0                 4.0  2021-12-01 15:21:39.252145   \n",
       "\n",
       "  Customer Feedback Smoking Status Exercise Frequency Property Type  \\\n",
       "0              Poor             No             Weekly         House   \n",
       "1           Average            Yes            Monthly         House   \n",
       "2              Good            Yes             Weekly         House   \n",
       "3              Poor            Yes              Daily     Apartment   \n",
       "4              Poor            Yes             Weekly         House   \n",
       "\n",
       "  Premium Amount  \n",
       "0         2869.0  \n",
       "1         1483.0  \n",
       "2          567.0  \n",
       "3          765.0  \n",
       "4         2022.0  \n",
       "\n",
       "[5 rows x 21 columns]"
      ]
     },
     "execution_count": 3,
     "metadata": {},
     "output_type": "execute_result"
    }
   ],
   "source": [
    "input_data.head()"
   ]
  },
  {
   "cell_type": "code",
   "execution_count": 4,
   "id": "8e4b03fd",
   "metadata": {
    "execution": {
     "iopub.execute_input": "2024-12-09T09:36:48.642466Z",
     "iopub.status.busy": "2024-12-09T09:36:48.642066Z",
     "iopub.status.idle": "2024-12-09T09:36:49.302868Z",
     "shell.execute_reply": "2024-12-09T09:36:49.301582Z"
    },
    "papermill": {
     "duration": 0.667985,
     "end_time": "2024-12-09T09:36:49.305340",
     "exception": false,
     "start_time": "2024-12-09T09:36:48.637355",
     "status": "completed"
    },
    "tags": []
   },
   "outputs": [
    {
     "name": "stdout",
     "output_type": "stream",
     "text": [
      "<class 'pandas.core.frame.DataFrame'>\n",
      "RangeIndex: 1200000 entries, 0 to 1199999\n",
      "Data columns (total 21 columns):\n",
      " #   Column                Non-Null Count    Dtype  \n",
      "---  ------                --------------    -----  \n",
      " 0   id                    1200000 non-null  int64  \n",
      " 1   Age                   1181295 non-null  float64\n",
      " 2   Gender                1200000 non-null  object \n",
      " 3   Annual Income         1155051 non-null  float64\n",
      " 4   Marital Status        1181471 non-null  object \n",
      " 5   Number of Dependents  1090328 non-null  float64\n",
      " 6   Education Level       1200000 non-null  object \n",
      " 7   Occupation            841925 non-null   object \n",
      " 8   Health Score          1125924 non-null  float64\n",
      " 9   Location              1200000 non-null  object \n",
      " 10  Policy Type           1200000 non-null  object \n",
      " 11  Previous Claims       835971 non-null   float64\n",
      " 12  Vehicle Age           1199994 non-null  float64\n",
      " 13  Credit Score          1062118 non-null  float64\n",
      " 14  Insurance Duration    1199999 non-null  float64\n",
      " 15  Policy Start Date     1200000 non-null  object \n",
      " 16  Customer Feedback     1122176 non-null  object \n",
      " 17  Smoking Status        1200000 non-null  object \n",
      " 18  Exercise Frequency    1200000 non-null  object \n",
      " 19  Property Type         1200000 non-null  object \n",
      " 20  Premium Amount        1200000 non-null  float64\n",
      "dtypes: float64(9), int64(1), object(11)\n",
      "memory usage: 192.3+ MB\n"
     ]
    }
   ],
   "source": [
    "input_data.info()"
   ]
  },
  {
   "cell_type": "code",
   "execution_count": 5,
   "id": "2847f08c",
   "metadata": {
    "execution": {
     "iopub.execute_input": "2024-12-09T09:36:49.313929Z",
     "iopub.status.busy": "2024-12-09T09:36:49.313558Z",
     "iopub.status.idle": "2024-12-09T09:36:49.971543Z",
     "shell.execute_reply": "2024-12-09T09:36:49.970204Z"
    },
    "papermill": {
     "duration": 0.665804,
     "end_time": "2024-12-09T09:36:49.974569",
     "exception": false,
     "start_time": "2024-12-09T09:36:49.308765",
     "status": "completed"
    },
    "tags": []
   },
   "outputs": [
    {
     "name": "stdout",
     "output_type": "stream",
     "text": [
      "<class 'pandas.core.frame.DataFrame'>\n",
      "Index: 1200000 entries, 0 to 1199999\n",
      "Data columns (total 20 columns):\n",
      " #   Column                Non-Null Count    Dtype  \n",
      "---  ------                --------------    -----  \n",
      " 0   Age                   1181295 non-null  float64\n",
      " 1   Gender                1200000 non-null  object \n",
      " 2   Annual Income         1155051 non-null  float64\n",
      " 3   Marital Status        1181471 non-null  object \n",
      " 4   Number of Dependents  1090328 non-null  float64\n",
      " 5   Education Level       1200000 non-null  object \n",
      " 6   Occupation            841925 non-null   object \n",
      " 7   Health Score          1125924 non-null  float64\n",
      " 8   Location              1200000 non-null  object \n",
      " 9   Policy Type           1200000 non-null  object \n",
      " 10  Previous Claims       835971 non-null   float64\n",
      " 11  Vehicle Age           1199994 non-null  float64\n",
      " 12  Credit Score          1062118 non-null  float64\n",
      " 13  Insurance Duration    1199999 non-null  float64\n",
      " 14  Policy Start Date     1200000 non-null  object \n",
      " 15  Customer Feedback     1122176 non-null  object \n",
      " 16  Smoking Status        1200000 non-null  object \n",
      " 17  Exercise Frequency    1200000 non-null  object \n",
      " 18  Property Type         1200000 non-null  object \n",
      " 19  Premium Amount        1200000 non-null  float64\n",
      "dtypes: float64(9), object(11)\n",
      "memory usage: 192.3+ MB\n"
     ]
    }
   ],
   "source": [
    "input_data.set_index(keys = \"id\", inplace = True)\n",
    "input_data.info()"
   ]
  },
  {
   "cell_type": "code",
   "execution_count": 6,
   "id": "fec859ea",
   "metadata": {
    "execution": {
     "iopub.execute_input": "2024-12-09T09:36:49.984623Z",
     "iopub.status.busy": "2024-12-09T09:36:49.984248Z",
     "iopub.status.idle": "2024-12-09T09:36:50.881619Z",
     "shell.execute_reply": "2024-12-09T09:36:50.880119Z"
    },
    "papermill": {
     "duration": 0.905836,
     "end_time": "2024-12-09T09:36:50.884263",
     "exception": false,
     "start_time": "2024-12-09T09:36:49.978427",
     "status": "completed"
    },
    "tags": []
   },
   "outputs": [
    {
     "name": "stdout",
     "output_type": "stream",
     "text": [
      "<class 'pandas.core.frame.DataFrame'>\n",
      "Index: 1181471 entries, 0 to 1199999\n",
      "Data columns (total 20 columns):\n",
      " #   Column                Non-Null Count    Dtype  \n",
      "---  ------                --------------    -----  \n",
      " 0   Age                   1163064 non-null  float64\n",
      " 1   Gender                1181471 non-null  object \n",
      " 2   Annual Income         1137478 non-null  float64\n",
      " 3   Marital Status        1181471 non-null  object \n",
      " 4   Number of Dependents  1073671 non-null  float64\n",
      " 5   Education Level       1181471 non-null  object \n",
      " 6   Occupation            828899 non-null   object \n",
      " 7   Health Score          1108301 non-null  float64\n",
      " 8   Location              1181471 non-null  object \n",
      " 9   Policy Type           1181471 non-null  object \n",
      " 10  Previous Claims       822749 non-null   float64\n",
      " 11  Vehicle Age           1181465 non-null  float64\n",
      " 12  Credit Score          1045865 non-null  float64\n",
      " 13  Insurance Duration    1181470 non-null  float64\n",
      " 14  Policy Start Date     1181471 non-null  object \n",
      " 15  Customer Feedback     1105117 non-null  object \n",
      " 16  Smoking Status        1181471 non-null  object \n",
      " 17  Exercise Frequency    1181471 non-null  object \n",
      " 18  Property Type         1181471 non-null  object \n",
      " 19  Premium Amount        1181471 non-null  float64\n",
      "dtypes: float64(9), object(11)\n",
      "memory usage: 189.3+ MB\n"
     ]
    }
   ],
   "source": [
    "input_data.dropna(subset = ['Marital Status'], axis = 0, inplace = True)\n",
    "input_data.info()"
   ]
  },
  {
   "cell_type": "code",
   "execution_count": 7,
   "id": "956f28c5",
   "metadata": {
    "execution": {
     "iopub.execute_input": "2024-12-09T09:36:50.893524Z",
     "iopub.status.busy": "2024-12-09T09:36:50.893098Z",
     "iopub.status.idle": "2024-12-09T09:36:51.103963Z",
     "shell.execute_reply": "2024-12-09T09:36:51.102782Z"
    },
    "papermill": {
     "duration": 0.218661,
     "end_time": "2024-12-09T09:36:51.106690",
     "exception": false,
     "start_time": "2024-12-09T09:36:50.888029",
     "status": "completed"
    },
    "tags": []
   },
   "outputs": [
    {
     "data": {
      "text/plain": [
       "Health Score\n",
       "NaN          73170\n",
       "19.927241      127\n",
       "25.907650      124\n",
       "19.869701      117\n",
       "22.955402      104\n",
       "             ...  \n",
       "13.181471        1\n",
       "6.837778         1\n",
       "40.634242        1\n",
       "46.352447        1\n",
       "11.483482        1\n",
       "Name: count, Length: 525094, dtype: int64"
      ]
     },
     "execution_count": 7,
     "metadata": {},
     "output_type": "execute_result"
    }
   ],
   "source": [
    "# To do basic checking of columns\n",
    "input_data[\"Occupation\"].value_counts(dropna = False)\n",
    "input_data[\"Health Score\"].value_counts(dropna = False)"
   ]
  },
  {
   "cell_type": "code",
   "execution_count": 8,
   "id": "2eac6784",
   "metadata": {
    "execution": {
     "iopub.execute_input": "2024-12-09T09:36:51.116065Z",
     "iopub.status.busy": "2024-12-09T09:36:51.115685Z",
     "iopub.status.idle": "2024-12-09T09:36:53.013248Z",
     "shell.execute_reply": "2024-12-09T09:36:53.012108Z"
    },
    "papermill": {
     "duration": 1.905269,
     "end_time": "2024-12-09T09:36:53.015898",
     "exception": false,
     "start_time": "2024-12-09T09:36:51.110629",
     "status": "completed"
    },
    "tags": []
   },
   "outputs": [],
   "source": [
    "from sklearn.impute import SimpleImputer\n",
    "imputer_mean = SimpleImputer(strategy = \"mean\")\n",
    "imputer_most_frequent = SimpleImputer(strategy = \"most_frequent\")\n",
    "imputer_na_occupation = SimpleImputer(strategy = \"constant\", fill_value = \"NA\")"
   ]
  },
  {
   "cell_type": "code",
   "execution_count": 9,
   "id": "5cc7f935",
   "metadata": {
    "execution": {
     "iopub.execute_input": "2024-12-09T09:36:53.026226Z",
     "iopub.status.busy": "2024-12-09T09:36:53.025659Z",
     "iopub.status.idle": "2024-12-09T09:36:57.867125Z",
     "shell.execute_reply": "2024-12-09T09:36:57.866027Z"
    },
    "papermill": {
     "duration": 4.8501,
     "end_time": "2024-12-09T09:36:57.869783",
     "exception": false,
     "start_time": "2024-12-09T09:36:53.019683",
     "status": "completed"
    },
    "tags": []
   },
   "outputs": [],
   "source": [
    "input_data[\"cat_col_concat\"] = input_data[\"Gender\"] + '_' + input_data[\"Marital Status\"] + '_' + input_data[\"Education Level\"] + '_' + input_data[\"Occupation\"] + '_' + input_data[\"Location\"] + '_' + input_data[\"Policy Type\"] + '_' + input_data[\"Customer Feedback\"] + '_' + input_data[\"Smoking Status\"] + '_' + input_data[\"Exercise Frequency\"] + '_' + input_data[\"Property Type\"]"
   ]
  },
  {
   "cell_type": "code",
   "execution_count": 10,
   "id": "9d323481",
   "metadata": {
    "execution": {
     "iopub.execute_input": "2024-12-09T09:36:57.883063Z",
     "iopub.status.busy": "2024-12-09T09:36:57.882550Z",
     "iopub.status.idle": "2024-12-09T09:36:57.888138Z",
     "shell.execute_reply": "2024-12-09T09:36:57.886837Z"
    },
    "papermill": {
     "duration": 0.016827,
     "end_time": "2024-12-09T09:36:57.891571",
     "exception": false,
     "start_time": "2024-12-09T09:36:57.874744",
     "status": "completed"
    },
    "tags": []
   },
   "outputs": [],
   "source": [
    "# from sklearn.model_selection import train_test_split\n",
    "\n",
    "# train_data, test_data = train_test_split(input_data, test_size = 0.3, stratify = input_data[\"cat_col_concat\"])\n",
    "\n",
    "# train_data.info()"
   ]
  }
 ],
 "metadata": {
  "kaggle": {
   "accelerator": "none",
   "dataSources": [
    {
     "databundleVersionId": 10305135,
     "sourceId": 84896,
     "sourceType": "competition"
    }
   ],
   "dockerImageVersionId": 30804,
   "isGpuEnabled": false,
   "isInternetEnabled": true,
   "language": "python",
   "sourceType": "notebook"
  },
  "kernelspec": {
   "display_name": "Python 3",
   "language": "python",
   "name": "python3"
  },
  "language_info": {
   "codemirror_mode": {
    "name": "ipython",
    "version": 3
   },
   "file_extension": ".py",
   "mimetype": "text/x-python",
   "name": "python",
   "nbconvert_exporter": "python",
   "pygments_lexer": "ipython3",
   "version": "3.10.14"
  },
  "papermill": {
   "default_parameters": {},
   "duration": 21.399799,
   "end_time": "2024-12-09T09:36:58.721388",
   "environment_variables": {},
   "exception": null,
   "input_path": "__notebook__.ipynb",
   "output_path": "__notebook__.ipynb",
   "parameters": {},
   "start_time": "2024-12-09T09:36:37.321589",
   "version": "2.6.0"
  }
 },
 "nbformat": 4,
 "nbformat_minor": 5
}
