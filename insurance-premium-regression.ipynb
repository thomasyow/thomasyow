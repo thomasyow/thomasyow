{
 "cells": [
  {
   "cell_type": "code",
   "execution_count": 1,
   "id": "ed88b1bb",
   "metadata": {
    "_cell_guid": "b1076dfc-b9ad-4769-8c92-a6c4dae69d19",
    "_uuid": "8f2839f25d086af736a60e9eeb907d3b93b6e0e5",
    "execution": {
     "iopub.execute_input": "2024-12-09T09:39:42.114787Z",
     "iopub.status.busy": "2024-12-09T09:39:42.114405Z",
     "iopub.status.idle": "2024-12-09T09:39:43.105440Z",
     "shell.execute_reply": "2024-12-09T09:39:43.104024Z"
    },
    "papermill": {
     "duration": 0.998968,
     "end_time": "2024-12-09T09:39:43.107908",
     "exception": false,
     "start_time": "2024-12-09T09:39:42.108940",
     "status": "completed"
    },
    "tags": []
   },
   "outputs": [
    {
     "name": "stdout",
     "output_type": "stream",
     "text": [
      "/kaggle/input/playground-series-s4e12/sample_submission.csv\n",
      "/kaggle/input/playground-series-s4e12/train.csv\n",
      "/kaggle/input/playground-series-s4e12/test.csv\n"
     ]
    }
   ],
   "source": [
    "# This Python 3 environment comes with many helpful analytics libraries installed\n",
    "# It is defined by the kaggle/python Docker image: https://github.com/kaggle/docker-python\n",
    "# For example, here's several helpful packages to load\n",
    "\n",
    "import numpy as np # linear algebra\n",
    "import pandas as pd # data processing, CSV file I/O (e.g. pd.read_csv)\n",
    "\n",
    "# Input data files are available in the read-only \"../input/\" directory\n",
    "# For example, running this (by clicking run or pressing Shift+Enter) will list all files under the input directory\n",
    "\n",
    "import os\n",
    "for dirname, _, filenames in os.walk('/kaggle/input'):\n",
    "    for filename in filenames:\n",
    "        print(os.path.join(dirname, filename))\n",
    "\n",
    "# You can write up to 20GB to the current directory (/kaggle/working/) that gets preserved as output when you create a version using \"Save & Run All\" \n",
    "# You can also write temporary files to /kaggle/temp/, but they won't be saved outside of the current session"
   ]
  },
  {
   "cell_type": "code",
   "execution_count": 2,
   "id": "bced6c66",
   "metadata": {
    "execution": {
     "iopub.execute_input": "2024-12-09T09:39:43.116154Z",
     "iopub.status.busy": "2024-12-09T09:39:43.115606Z",
     "iopub.status.idle": "2024-12-09T09:39:50.385910Z",
     "shell.execute_reply": "2024-12-09T09:39:50.384734Z"
    },
    "papermill": {
     "duration": 7.277175,
     "end_time": "2024-12-09T09:39:50.388410",
     "exception": false,
     "start_time": "2024-12-09T09:39:43.111235",
     "status": "completed"
    },
    "tags": []
   },
   "outputs": [],
   "source": [
    "input_data = pd.read_csv('/kaggle/input/playground-series-s4e12/train.csv')"
   ]
  },
  {
   "cell_type": "code",
   "execution_count": 3,
   "id": "7d694ae9",
   "metadata": {
    "execution": {
     "iopub.execute_input": "2024-12-09T09:39:50.396640Z",
     "iopub.status.busy": "2024-12-09T09:39:50.396288Z",
     "iopub.status.idle": "2024-12-09T09:39:50.439149Z",
     "shell.execute_reply": "2024-12-09T09:39:50.438047Z"
    },
    "papermill": {
     "duration": 0.050004,
     "end_time": "2024-12-09T09:39:50.441534",
     "exception": false,
     "start_time": "2024-12-09T09:39:50.391530",
     "status": "completed"
    },
    "tags": []
   },
   "outputs": [
    {
     "data": {
      "text/html": [
       "<div>\n",
       "<style scoped>\n",
       "    .dataframe tbody tr th:only-of-type {\n",
       "        vertical-align: middle;\n",
       "    }\n",
       "\n",
       "    .dataframe tbody tr th {\n",
       "        vertical-align: top;\n",
       "    }\n",
       "\n",
       "    .dataframe thead th {\n",
       "        text-align: right;\n",
       "    }\n",
       "</style>\n",
       "<table border=\"1\" class=\"dataframe\">\n",
       "  <thead>\n",
       "    <tr style=\"text-align: right;\">\n",
       "      <th></th>\n",
       "      <th>id</th>\n",
       "      <th>Age</th>\n",
       "      <th>Gender</th>\n",
       "      <th>Annual Income</th>\n",
       "      <th>Marital Status</th>\n",
       "      <th>Number of Dependents</th>\n",
       "      <th>Education Level</th>\n",
       "      <th>Occupation</th>\n",
       "      <th>Health Score</th>\n",
       "      <th>Location</th>\n",
       "      <th>...</th>\n",
       "      <th>Previous Claims</th>\n",
       "      <th>Vehicle Age</th>\n",
       "      <th>Credit Score</th>\n",
       "      <th>Insurance Duration</th>\n",
       "      <th>Policy Start Date</th>\n",
       "      <th>Customer Feedback</th>\n",
       "      <th>Smoking Status</th>\n",
       "      <th>Exercise Frequency</th>\n",
       "      <th>Property Type</th>\n",
       "      <th>Premium Amount</th>\n",
       "    </tr>\n",
       "  </thead>\n",
       "  <tbody>\n",
       "    <tr>\n",
       "      <th>0</th>\n",
       "      <td>0</td>\n",
       "      <td>19.0</td>\n",
       "      <td>Female</td>\n",
       "      <td>10049.0</td>\n",
       "      <td>Married</td>\n",
       "      <td>1.0</td>\n",
       "      <td>Bachelor's</td>\n",
       "      <td>Self-Employed</td>\n",
       "      <td>22.598761</td>\n",
       "      <td>Urban</td>\n",
       "      <td>...</td>\n",
       "      <td>2.0</td>\n",
       "      <td>17.0</td>\n",
       "      <td>372.0</td>\n",
       "      <td>5.0</td>\n",
       "      <td>2023-12-23 15:21:39.134960</td>\n",
       "      <td>Poor</td>\n",
       "      <td>No</td>\n",
       "      <td>Weekly</td>\n",
       "      <td>House</td>\n",
       "      <td>2869.0</td>\n",
       "    </tr>\n",
       "    <tr>\n",
       "      <th>1</th>\n",
       "      <td>1</td>\n",
       "      <td>39.0</td>\n",
       "      <td>Female</td>\n",
       "      <td>31678.0</td>\n",
       "      <td>Divorced</td>\n",
       "      <td>3.0</td>\n",
       "      <td>Master's</td>\n",
       "      <td>NaN</td>\n",
       "      <td>15.569731</td>\n",
       "      <td>Rural</td>\n",
       "      <td>...</td>\n",
       "      <td>1.0</td>\n",
       "      <td>12.0</td>\n",
       "      <td>694.0</td>\n",
       "      <td>2.0</td>\n",
       "      <td>2023-06-12 15:21:39.111551</td>\n",
       "      <td>Average</td>\n",
       "      <td>Yes</td>\n",
       "      <td>Monthly</td>\n",
       "      <td>House</td>\n",
       "      <td>1483.0</td>\n",
       "    </tr>\n",
       "    <tr>\n",
       "      <th>2</th>\n",
       "      <td>2</td>\n",
       "      <td>23.0</td>\n",
       "      <td>Male</td>\n",
       "      <td>25602.0</td>\n",
       "      <td>Divorced</td>\n",
       "      <td>3.0</td>\n",
       "      <td>High School</td>\n",
       "      <td>Self-Employed</td>\n",
       "      <td>47.177549</td>\n",
       "      <td>Suburban</td>\n",
       "      <td>...</td>\n",
       "      <td>1.0</td>\n",
       "      <td>14.0</td>\n",
       "      <td>NaN</td>\n",
       "      <td>3.0</td>\n",
       "      <td>2023-09-30 15:21:39.221386</td>\n",
       "      <td>Good</td>\n",
       "      <td>Yes</td>\n",
       "      <td>Weekly</td>\n",
       "      <td>House</td>\n",
       "      <td>567.0</td>\n",
       "    </tr>\n",
       "    <tr>\n",
       "      <th>3</th>\n",
       "      <td>3</td>\n",
       "      <td>21.0</td>\n",
       "      <td>Male</td>\n",
       "      <td>141855.0</td>\n",
       "      <td>Married</td>\n",
       "      <td>2.0</td>\n",
       "      <td>Bachelor's</td>\n",
       "      <td>NaN</td>\n",
       "      <td>10.938144</td>\n",
       "      <td>Rural</td>\n",
       "      <td>...</td>\n",
       "      <td>1.0</td>\n",
       "      <td>0.0</td>\n",
       "      <td>367.0</td>\n",
       "      <td>1.0</td>\n",
       "      <td>2024-06-12 15:21:39.226954</td>\n",
       "      <td>Poor</td>\n",
       "      <td>Yes</td>\n",
       "      <td>Daily</td>\n",
       "      <td>Apartment</td>\n",
       "      <td>765.0</td>\n",
       "    </tr>\n",
       "    <tr>\n",
       "      <th>4</th>\n",
       "      <td>4</td>\n",
       "      <td>21.0</td>\n",
       "      <td>Male</td>\n",
       "      <td>39651.0</td>\n",
       "      <td>Single</td>\n",
       "      <td>1.0</td>\n",
       "      <td>Bachelor's</td>\n",
       "      <td>Self-Employed</td>\n",
       "      <td>20.376094</td>\n",
       "      <td>Rural</td>\n",
       "      <td>...</td>\n",
       "      <td>0.0</td>\n",
       "      <td>8.0</td>\n",
       "      <td>598.0</td>\n",
       "      <td>4.0</td>\n",
       "      <td>2021-12-01 15:21:39.252145</td>\n",
       "      <td>Poor</td>\n",
       "      <td>Yes</td>\n",
       "      <td>Weekly</td>\n",
       "      <td>House</td>\n",
       "      <td>2022.0</td>\n",
       "    </tr>\n",
       "  </tbody>\n",
       "</table>\n",
       "<p>5 rows × 21 columns</p>\n",
       "</div>"
      ],
      "text/plain": [
       "   id   Age  Gender  Annual Income Marital Status  Number of Dependents  \\\n",
       "0   0  19.0  Female        10049.0        Married                   1.0   \n",
       "1   1  39.0  Female        31678.0       Divorced                   3.0   \n",
       "2   2  23.0    Male        25602.0       Divorced                   3.0   \n",
       "3   3  21.0    Male       141855.0        Married                   2.0   \n",
       "4   4  21.0    Male        39651.0         Single                   1.0   \n",
       "\n",
       "  Education Level     Occupation  Health Score  Location  ... Previous Claims  \\\n",
       "0      Bachelor's  Self-Employed     22.598761     Urban  ...             2.0   \n",
       "1        Master's            NaN     15.569731     Rural  ...             1.0   \n",
       "2     High School  Self-Employed     47.177549  Suburban  ...             1.0   \n",
       "3      Bachelor's            NaN     10.938144     Rural  ...             1.0   \n",
       "4      Bachelor's  Self-Employed     20.376094     Rural  ...             0.0   \n",
       "\n",
       "   Vehicle Age  Credit Score  Insurance Duration           Policy Start Date  \\\n",
       "0         17.0         372.0                 5.0  2023-12-23 15:21:39.134960   \n",
       "1         12.0         694.0                 2.0  2023-06-12 15:21:39.111551   \n",
       "2         14.0           NaN                 3.0  2023-09-30 15:21:39.221386   \n",
       "3          0.0         367.0                 1.0  2024-06-12 15:21:39.226954   \n",
       "4          8.0         598.0                 4.0  2021-12-01 15:21:39.252145   \n",
       "\n",
       "  Customer Feedback Smoking Status Exercise Frequency Property Type  \\\n",
       "0              Poor             No             Weekly         House   \n",
       "1           Average            Yes            Monthly         House   \n",
       "2              Good            Yes             Weekly         House   \n",
       "3              Poor            Yes              Daily     Apartment   \n",
       "4              Poor            Yes             Weekly         House   \n",
       "\n",
       "  Premium Amount  \n",
       "0         2869.0  \n",
       "1         1483.0  \n",
       "2          567.0  \n",
       "3          765.0  \n",
       "4         2022.0  \n",
       "\n",
       "[5 rows x 21 columns]"
      ]
     },
     "execution_count": 3,
     "metadata": {},
     "output_type": "execute_result"
    }
   ],
   "source": [
    "input_data.head()"
   ]
  },
  {
   "cell_type": "code",
   "execution_count": 4,
   "id": "05435c0c",
   "metadata": {
    "execution": {
     "iopub.execute_input": "2024-12-09T09:39:50.449869Z",
     "iopub.status.busy": "2024-12-09T09:39:50.449521Z",
     "iopub.status.idle": "2024-12-09T09:39:51.106341Z",
     "shell.execute_reply": "2024-12-09T09:39:51.105165Z"
    },
    "papermill": {
     "duration": 0.663869,
     "end_time": "2024-12-09T09:39:51.108800",
     "exception": false,
     "start_time": "2024-12-09T09:39:50.444931",
     "status": "completed"
    },
    "tags": []
   },
   "outputs": [
    {
     "name": "stdout",
     "output_type": "stream",
     "text": [
      "<class 'pandas.core.frame.DataFrame'>\n",
      "RangeIndex: 1200000 entries, 0 to 1199999\n",
      "Data columns (total 21 columns):\n",
      " #   Column                Non-Null Count    Dtype  \n",
      "---  ------                --------------    -----  \n",
      " 0   id                    1200000 non-null  int64  \n",
      " 1   Age                   1181295 non-null  float64\n",
      " 2   Gender                1200000 non-null  object \n",
      " 3   Annual Income         1155051 non-null  float64\n",
      " 4   Marital Status        1181471 non-null  object \n",
      " 5   Number of Dependents  1090328 non-null  float64\n",
      " 6   Education Level       1200000 non-null  object \n",
      " 7   Occupation            841925 non-null   object \n",
      " 8   Health Score          1125924 non-null  float64\n",
      " 9   Location              1200000 non-null  object \n",
      " 10  Policy Type           1200000 non-null  object \n",
      " 11  Previous Claims       835971 non-null   float64\n",
      " 12  Vehicle Age           1199994 non-null  float64\n",
      " 13  Credit Score          1062118 non-null  float64\n",
      " 14  Insurance Duration    1199999 non-null  float64\n",
      " 15  Policy Start Date     1200000 non-null  object \n",
      " 16  Customer Feedback     1122176 non-null  object \n",
      " 17  Smoking Status        1200000 non-null  object \n",
      " 18  Exercise Frequency    1200000 non-null  object \n",
      " 19  Property Type         1200000 non-null  object \n",
      " 20  Premium Amount        1200000 non-null  float64\n",
      "dtypes: float64(9), int64(1), object(11)\n",
      "memory usage: 192.3+ MB\n"
     ]
    }
   ],
   "source": [
    "input_data.info()"
   ]
  },
  {
   "cell_type": "code",
   "execution_count": 5,
   "id": "467e2aac",
   "metadata": {
    "execution": {
     "iopub.execute_input": "2024-12-09T09:39:51.117331Z",
     "iopub.status.busy": "2024-12-09T09:39:51.116917Z",
     "iopub.status.idle": "2024-12-09T09:39:51.765202Z",
     "shell.execute_reply": "2024-12-09T09:39:51.764146Z"
    },
    "papermill": {
     "duration": 0.655614,
     "end_time": "2024-12-09T09:39:51.767940",
     "exception": false,
     "start_time": "2024-12-09T09:39:51.112326",
     "status": "completed"
    },
    "tags": []
   },
   "outputs": [
    {
     "name": "stdout",
     "output_type": "stream",
     "text": [
      "<class 'pandas.core.frame.DataFrame'>\n",
      "Index: 1200000 entries, 0 to 1199999\n",
      "Data columns (total 20 columns):\n",
      " #   Column                Non-Null Count    Dtype  \n",
      "---  ------                --------------    -----  \n",
      " 0   Age                   1181295 non-null  float64\n",
      " 1   Gender                1200000 non-null  object \n",
      " 2   Annual Income         1155051 non-null  float64\n",
      " 3   Marital Status        1181471 non-null  object \n",
      " 4   Number of Dependents  1090328 non-null  float64\n",
      " 5   Education Level       1200000 non-null  object \n",
      " 6   Occupation            841925 non-null   object \n",
      " 7   Health Score          1125924 non-null  float64\n",
      " 8   Location              1200000 non-null  object \n",
      " 9   Policy Type           1200000 non-null  object \n",
      " 10  Previous Claims       835971 non-null   float64\n",
      " 11  Vehicle Age           1199994 non-null  float64\n",
      " 12  Credit Score          1062118 non-null  float64\n",
      " 13  Insurance Duration    1199999 non-null  float64\n",
      " 14  Policy Start Date     1200000 non-null  object \n",
      " 15  Customer Feedback     1122176 non-null  object \n",
      " 16  Smoking Status        1200000 non-null  object \n",
      " 17  Exercise Frequency    1200000 non-null  object \n",
      " 18  Property Type         1200000 non-null  object \n",
      " 19  Premium Amount        1200000 non-null  float64\n",
      "dtypes: float64(9), object(11)\n",
      "memory usage: 192.3+ MB\n"
     ]
    }
   ],
   "source": [
    "input_data.set_index(keys = \"id\", inplace = True)\n",
    "input_data.info()"
   ]
  },
  {
   "cell_type": "code",
   "execution_count": 6,
   "id": "ee87f1a1",
   "metadata": {
    "execution": {
     "iopub.execute_input": "2024-12-09T09:39:51.777514Z",
     "iopub.status.busy": "2024-12-09T09:39:51.777036Z",
     "iopub.status.idle": "2024-12-09T09:39:52.664664Z",
     "shell.execute_reply": "2024-12-09T09:39:52.663550Z"
    },
    "papermill": {
     "duration": 0.89496,
     "end_time": "2024-12-09T09:39:52.667177",
     "exception": false,
     "start_time": "2024-12-09T09:39:51.772217",
     "status": "completed"
    },
    "tags": []
   },
   "outputs": [
    {
     "name": "stdout",
     "output_type": "stream",
     "text": [
      "<class 'pandas.core.frame.DataFrame'>\n",
      "Index: 1181471 entries, 0 to 1199999\n",
      "Data columns (total 20 columns):\n",
      " #   Column                Non-Null Count    Dtype  \n",
      "---  ------                --------------    -----  \n",
      " 0   Age                   1163064 non-null  float64\n",
      " 1   Gender                1181471 non-null  object \n",
      " 2   Annual Income         1137478 non-null  float64\n",
      " 3   Marital Status        1181471 non-null  object \n",
      " 4   Number of Dependents  1073671 non-null  float64\n",
      " 5   Education Level       1181471 non-null  object \n",
      " 6   Occupation            828899 non-null   object \n",
      " 7   Health Score          1108301 non-null  float64\n",
      " 8   Location              1181471 non-null  object \n",
      " 9   Policy Type           1181471 non-null  object \n",
      " 10  Previous Claims       822749 non-null   float64\n",
      " 11  Vehicle Age           1181465 non-null  float64\n",
      " 12  Credit Score          1045865 non-null  float64\n",
      " 13  Insurance Duration    1181470 non-null  float64\n",
      " 14  Policy Start Date     1181471 non-null  object \n",
      " 15  Customer Feedback     1105117 non-null  object \n",
      " 16  Smoking Status        1181471 non-null  object \n",
      " 17  Exercise Frequency    1181471 non-null  object \n",
      " 18  Property Type         1181471 non-null  object \n",
      " 19  Premium Amount        1181471 non-null  float64\n",
      "dtypes: float64(9), object(11)\n",
      "memory usage: 189.3+ MB\n"
     ]
    }
   ],
   "source": [
    "input_data.dropna(subset = ['Marital Status'], axis = 0, inplace = True)\n",
    "input_data.info()"
   ]
  },
  {
   "cell_type": "code",
   "execution_count": 7,
   "id": "6c3acb68",
   "metadata": {
    "execution": {
     "iopub.execute_input": "2024-12-09T09:39:52.676603Z",
     "iopub.status.busy": "2024-12-09T09:39:52.675740Z",
     "iopub.status.idle": "2024-12-09T09:39:52.898772Z",
     "shell.execute_reply": "2024-12-09T09:39:52.897728Z"
    },
    "papermill": {
     "duration": 0.23029,
     "end_time": "2024-12-09T09:39:52.901199",
     "exception": false,
     "start_time": "2024-12-09T09:39:52.670909",
     "status": "completed"
    },
    "tags": []
   },
   "outputs": [
    {
     "data": {
      "text/plain": [
       "Health Score\n",
       "NaN          73170\n",
       "19.927241      127\n",
       "25.907650      124\n",
       "19.869701      117\n",
       "22.955402      104\n",
       "             ...  \n",
       "13.181471        1\n",
       "6.837778         1\n",
       "40.634242        1\n",
       "46.352447        1\n",
       "11.483482        1\n",
       "Name: count, Length: 525094, dtype: int64"
      ]
     },
     "execution_count": 7,
     "metadata": {},
     "output_type": "execute_result"
    }
   ],
   "source": [
    "# To do basic checking of columns\n",
    "input_data[\"Occupation\"].value_counts(dropna = False)\n",
    "input_data[\"Health Score\"].value_counts(dropna = False)"
   ]
  },
  {
   "cell_type": "code",
   "execution_count": 8,
   "id": "a521a8a9",
   "metadata": {
    "execution": {
     "iopub.execute_input": "2024-12-09T09:39:52.910442Z",
     "iopub.status.busy": "2024-12-09T09:39:52.910027Z",
     "iopub.status.idle": "2024-12-09T09:39:54.670919Z",
     "shell.execute_reply": "2024-12-09T09:39:54.669791Z"
    },
    "papermill": {
     "duration": 1.768666,
     "end_time": "2024-12-09T09:39:54.673622",
     "exception": false,
     "start_time": "2024-12-09T09:39:52.904956",
     "status": "completed"
    },
    "tags": []
   },
   "outputs": [],
   "source": [
    "from sklearn.impute import SimpleImputer\n",
    "imputer_mean = SimpleImputer(strategy = \"mean\")\n",
    "imputer_most_frequent = SimpleImputer(strategy = \"most_frequent\")\n",
    "imputer_na_occupation = SimpleImputer(strategy = \"constant\", fill_value = \"NA\")"
   ]
  },
  {
   "cell_type": "code",
   "execution_count": 9,
   "id": "96e16d3c",
   "metadata": {
    "execution": {
     "iopub.execute_input": "2024-12-09T09:39:54.685359Z",
     "iopub.status.busy": "2024-12-09T09:39:54.683919Z",
     "iopub.status.idle": "2024-12-09T09:39:59.568819Z",
     "shell.execute_reply": "2024-12-09T09:39:59.567802Z"
    },
    "papermill": {
     "duration": 4.894326,
     "end_time": "2024-12-09T09:39:59.571765",
     "exception": false,
     "start_time": "2024-12-09T09:39:54.677439",
     "status": "completed"
    },
    "tags": []
   },
   "outputs": [],
   "source": [
    "input_data[\"cat_col_concat\"] = input_data[\"Gender\"] + '_' + input_data[\"Marital Status\"] + '_' + input_data[\"Education Level\"] + '_' + input_data[\"Occupation\"] + '_' + input_data[\"Location\"] + '_' + input_data[\"Policy Type\"] + '_' + input_data[\"Customer Feedback\"] + '_' + input_data[\"Smoking Status\"] + '_' + input_data[\"Exercise Frequency\"] + '_' + input_data[\"Property Type\"]"
   ]
  },
  {
   "cell_type": "code",
   "execution_count": 10,
   "id": "a4743bbd",
   "metadata": {
    "execution": {
     "iopub.execute_input": "2024-12-09T09:39:59.581247Z",
     "iopub.status.busy": "2024-12-09T09:39:59.580820Z",
     "iopub.status.idle": "2024-12-09T09:39:59.585989Z",
     "shell.execute_reply": "2024-12-09T09:39:59.584496Z"
    },
    "papermill": {
     "duration": 0.012468,
     "end_time": "2024-12-09T09:39:59.588146",
     "exception": false,
     "start_time": "2024-12-09T09:39:59.575678",
     "status": "completed"
    },
    "tags": []
   },
   "outputs": [],
   "source": [
    "# from sklearn.model_selection import train_test_split\n",
    "\n",
    "# train_data, test_data = train_test_split(input_data, test_size = 0.3, stratify = input_data[\"cat_col_concat\"])\n",
    "\n",
    "# train_data.info()"
   ]
  }
 ],
 "metadata": {
  "kaggle": {
   "accelerator": "none",
   "dataSources": [
    {
     "databundleVersionId": 10305135,
     "sourceId": 84896,
     "sourceType": "competition"
    }
   ],
   "dockerImageVersionId": 30804,
   "isGpuEnabled": false,
   "isInternetEnabled": true,
   "language": "python",
   "sourceType": "notebook"
  },
  "kernelspec": {
   "display_name": "Python 3",
   "language": "python",
   "name": "python3"
  },
  "language_info": {
   "codemirror_mode": {
    "name": "ipython",
    "version": 3
   },
   "file_extension": ".py",
   "mimetype": "text/x-python",
   "name": "python",
   "nbconvert_exporter": "python",
   "pygments_lexer": "ipython3",
   "version": "3.10.14"
  },
  "papermill": {
   "default_parameters": {},
   "duration": 21.199935,
   "end_time": "2024-12-09T09:40:00.414024",
   "environment_variables": {},
   "exception": null,
   "input_path": "__notebook__.ipynb",
   "output_path": "__notebook__.ipynb",
   "parameters": {},
   "start_time": "2024-12-09T09:39:39.214089",
   "version": "2.6.0"
  }
 },
 "nbformat": 4,
 "nbformat_minor": 5
}
